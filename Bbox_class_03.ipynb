{
 "cells": [
  {
   "cell_type": "code",
   "execution_count": 286,
   "metadata": {
    "ExecuteTime": {
     "end_time": "2018-11-09T16:11:08.578000Z",
     "start_time": "2018-11-09T16:11:08.559000Z"
    },
    "collapsed": true
   },
   "outputs": [],
   "source": [
    "from lcapy import L,C,R\n",
    "import lcapy\n",
    "import sympy as sp\n",
    "import numpy as np\n",
    "from scipy.constants import e,pi,h\n",
    "from sympy.core.mul import Mul,Pow,Add\n",
    "from copy import deepcopy\n",
    "import matplotlib.pyplot as plt\n",
    "import math"
   ]
  },
  {
   "cell_type": "markdown",
   "metadata": {},
   "source": [
    "Note:\n",
    " - why use Y and not node matrix? -> because we also want dissipation rates\n",
    " - "
   ]
  },
  {
   "cell_type": "code",
   "execution_count": 287,
   "metadata": {
    "ExecuteTime": {
     "end_time": "2018-11-09T16:11:09.063000Z",
     "start_time": "2018-11-09T16:11:09.052000Z"
    },
    "code_folding": []
   },
   "outputs": [],
   "source": [
    "def roots(poly_coeffs):\n",
    "    # Avoids 1e-85 appearing as a coefficient in the polynomial\n",
    "    order = len(poly_coeffs)-1\n",
    "    temp = []\n",
    "    for i in range(order):\n",
    "        if poly_coeffs[i]!=0.:\n",
    "            temp.append(np.power(np.abs(poly_coeffs[i]),1./float(order-i)))\n",
    "    scaling = np.exp(np.average(np.log(temp)))\n",
    "    poly_coeffs = [p/scaling**(order-i) for i,p in enumerate(poly_coeffs)]\n",
    "    return np.roots(poly_coeffs)/scaling\n",
    "\n",
    "# print np.roots([4.200000000000001e-56j, 8.477000000000001e-43, -9.350000000000001e-35j, -1.88e-21, 5e-14j, 1])\n",
    "# print roots([4.200000000000001e-56j, 8.477000000000001e-43, -9.350000000000001e-35j, -1.88e-21, 5e-14j, 1])"
   ]
  },
  {
   "cell_type": "code",
   "execution_count": 288,
   "metadata": {
    "ExecuteTime": {
     "end_time": "2018-11-09T16:11:09.328000Z",
     "start_time": "2018-11-09T16:11:09.145000Z"
    },
    "code_folding": [
     0,
     13,
     31,
     35
    ],
    "scrolled": true
   },
   "outputs": [],
   "source": [
    "def admittance(circuit):\n",
    "    if type(circuit) == lcapy.oneport.Par:\n",
    "        return Add(admittance(circuit.args[0]),admittance(circuit.args[1]))\n",
    "    elif type(circuit) == lcapy.oneport.Ser:\n",
    "        return 1/Add(1/admittance(circuit.args[0]),1/admittance(circuit.args[1]))\n",
    "    elif type(circuit) == lcapy.oneport.L:\n",
    "        return -sp.I*Mul(1/sp.Symbol('w'),1/sp.Symbol(circuit.args[0],real=True))\n",
    "    elif type(circuit) == lcapy.oneport.C:\n",
    "        return sp.I*Mul(sp.Symbol('w'),sp.Symbol(circuit.args[0],real=True))\n",
    "    elif type(circuit) == lcapy.oneport.R:\n",
    "        return 1/sp.Symbol(circuit.args[0],real=True)\n",
    "\n",
    "class Bbox(object):\n",
    "    def __init__(self, circuit, L_J = \"L_J\"):\n",
    "        self.circuit = circuit.simplify()\n",
    "        self.L_J = L_J\n",
    "        \n",
    "        Y = admittance(self.circuit)\n",
    "        self.all_circuit_elements = [str(x) for x in list(Y.free_symbols)]\n",
    "        self.all_circuit_elements.remove('w')\n",
    "\n",
    "        Y_numer = sp.numer(sp.together(Y))\n",
    "        Y_poly = sp.collect(sp.expand(Y_numer),sp.Symbol('w'))\n",
    "        self.Y_poly = Y_poly\n",
    "        Y_poly_order = sp.polys.polytools.degree(Y_poly,gen = sp.Symbol('w'))\n",
    "        Y_poly_coeffs = [Y_poly.coeff(sp.Symbol('w'),n) for n in range(Y_poly_order+1)[::-1]]\n",
    "        self.Y_poly_num = sp.utilities.lambdify([elt for elt in self.all_circuit_elements],Y_poly_coeffs,\"numpy\")\n",
    "        self.N_modes = int(math.ceil((Y_poly_order)/2))\n",
    "        self.dY = sp.diff(Y,sp.Symbol('w'))\n",
    "        self.dY_num = sp.utilities.lambdify([elt for elt in self.all_circuit_elements+[\"w\"]],self.dY,\"numpy\")\n",
    "    \n",
    "    def draw(self):\n",
    "        self.circuit.draw()\n",
    "        \n",
    "    def analytical_solution(self):\n",
    "        # Prints very ugly expressions, need to massage the sympy\n",
    "        facts = [sp.Q.positive(sp.Symbol(x)) for x in self.all_circuit_elements]\n",
    "        with sp.assuming(*facts):\n",
    "        \n",
    "            # Try and calculate analytical eigenfrequencies\n",
    "            w_analytical = sp.solve(self.Y_poly,sp.Symbol('w'))\n",
    "\n",
    "            # Check the number of solutions\n",
    "            if len(w_analytical)==0:\n",
    "                print \"No analytical solutions\"\n",
    "                return None\n",
    "\n",
    "            # Compute anharmonicities\n",
    "            ws = []\n",
    "            ks = []\n",
    "            As = []\n",
    "            for w in w_analytical:\n",
    "                w_num = complex(w.evalf(subs={i:1. for i in w.free_symbols}))\n",
    "                if np.real(w_num)>0:\n",
    "                    ws.append(sp.functions.im(w))\n",
    "                    ks.append(-sp.functions.re(w))\n",
    "                    As.append(2.*e**2/h*Mul(1/sp.Symbol(self.L_J),\\\n",
    "                            Mul(Pow(1/sp.functions.im(self.dY.subs({sp.Symbol('w'):sp.functions.im(w)})),2),\\\n",
    "                            Pow(1/sp.functions.im(w),2))))\n",
    "            return ws,ks,As\n",
    "    \n",
    "    def fkA(self,circuit_parameters):\n",
    "        args = [circuit_parameters[key] for key in self.all_circuit_elements]\n",
    "        ws_cpx = np.roots(self.Y_poly_num(*args))\n",
    "        positive_sols = np.argwhere((np.real(ws_cpx)>=0.)&(np.imag(ws_cpx)>=0.))\n",
    "        ws_cpx=ws_cpx[positive_sols][:,0]\n",
    "        while True:\n",
    "            if len(ws_cpx)<self.N_modes:\n",
    "                ws_cpx=np.concatenate((ws_cpx,[0.]))\n",
    "            else:\n",
    "                break\n",
    "        \n",
    "        ws = np.real(ws_cpx)\n",
    "        increasing_frequencies = np.argsort(ws)\n",
    "        ws = ws[increasing_frequencies]\n",
    "        ks = np.imag(ws_cpx)[increasing_frequencies]\n",
    "        \n",
    "        \n",
    "        args.append(ws)\n",
    "        ImdY = np.imag(self.dY_num(*args))\n",
    "        As = 2.*e**2/h/circuit_parameters[self.L_J]/ws**2/ImdY**2\n",
    "        return np.concatenate(([ws/2./pi],[ks/2./pi],[As]))\n",
    "    \n",
    "    def normalmodes(self,circuit_parameters):\n",
    "        N_lists = 0\n",
    "        for key in circuit_parameters:\n",
    "            if type(circuit_parameters[key]) == np.ndarray or type(circuit_parameters[key])== list:\n",
    "                N_lists +=1\n",
    "                key_list = key\n",
    "        \n",
    "        if N_lists == 0:\n",
    "            return self.fkA(circuit_parameters)\n",
    "        elif N_lists == 1:\n",
    "            to_iterate = deepcopy(circuit_parameters[key_list])\n",
    "            circuit_parameters[key_list] = to_iterate[0]\n",
    "            ret = np.array([self.fkA(circuit_parameters)])\n",
    "            for key_value in to_iterate[1:]:\n",
    "                circuit_parameters[key_list] = key_value\n",
    "                ret = np.concatenate((ret,[self.fkA(circuit_parameters)]),axis = 0)\n",
    "            return np.transpose(ret,(2,1,0))\n",
    "        else:\n",
    "            \"Can only iterate on one variable\"\n"
   ]
  },
  {
   "cell_type": "code",
   "execution_count": 289,
   "metadata": {
    "ExecuteTime": {
     "end_time": "2018-11-09T16:11:09.566000Z",
     "start_time": "2018-11-09T16:11:09.519000Z"
    },
    "collapsed": true
   },
   "outputs": [],
   "source": [
    "b_cQED = Bbox(L('L_J') | C('C') | (C('Cc')+(C('Cr')|L('Lr')|(C('Cf')+R('R_50')))))"
   ]
  },
  {
   "cell_type": "code",
   "execution_count": 275,
   "metadata": {
    "ExecuteTime": {
     "end_time": "2018-11-09T15:50:21.088000Z",
     "start_time": "2018-11-09T15:50:17.816000Z"
    },
    "deletable": false,
    "editable": false,
    "run_control": {
     "frozen": true
    }
   },
   "outputs": [
    {
     "data": {
      "image/png": "[encoded data removed]"
     },
     "metadata": {
      "image/png": {
       "height": 280,
       "width": 600
      }
     },
     "output_type": "display_data"
    }
   ],
   "source": [
    "b_cQED.draw()"
   ]
  },
  {
   "cell_type": "code",
   "execution_count": 290,
   "metadata": {
    "ExecuteTime": {
     "end_time": "2018-11-09T16:11:10.543000Z",
     "start_time": "2018-11-09T16:11:10.454000Z"
    }
   },
   "outputs": [
    {
     "name": "stderr",
     "output_type": "stream",
     "text": [
      "C:\\Anaconda2\\lib\\site-packages\\numpy\\__init__.py:1: RuntimeWarning: divide by zero encountered in true_divide\n",
      "  \"\"\"\n",
      "C:\\Anaconda2\\lib\\site-packages\\numpy\\__init__.py:1: RuntimeWarning: invalid value encountered in true_divide\n",
      "  \"\"\"\n",
      "C:\\Anaconda2\\lib\\site-packages\\ipykernel\\__main__.py:79: RuntimeWarning: divide by zero encountered in divide\n"
     ]
    }
   ],
   "source": [
    "flux = np.linspace(0.,0.49,103)\n",
    "L_J_list = 7e-9/abs(np.cos(pi*flux))\n",
    "to_plot =  np.array(b_cQED.normalmodes({\n",
    "    'L_J':L_J_list,\n",
    "    'C':100e-15,\n",
    "    'Cc':10e-15,\n",
    "    'Cf':1e-15,\n",
    "    'R_50':50.,\n",
    "    'Lr':10e-9,\n",
    "    'Cr':100e-15,\n",
    "    'R_J':1e6,\n",
    "    'R_r':1e5\n",
    "}))"
   ]
  },
  {
   "cell_type": "code",
   "execution_count": 291,
   "metadata": {
    "ExecuteTime": {
     "end_time": "2018-11-09T16:11:11.180000Z",
     "start_time": "2018-11-09T16:11:10.749000Z"
    }
   },
   "outputs": [
    {
     "data": {
      "image/png": "[encoded data removed]",
      "text/plain": [
       "<matplotlib.figure.Figure at 0x15951ac8>"
      ]
     },
     "metadata": {},
     "output_type": "display_data"
    }
   ],
   "source": [
    "fig,axarr = plt.subplots(3,1,figsize=(3,6),sharex=True)\n",
    "for i,ax in enumerate(axarr):\n",
    "    for j in [1,2]:\n",
    "#     for j in range(b_cQED.N_modes):\n",
    "        axarr[i].plot(flux,to_plot[j,i])\n",
    "axarr[0].set_ylabel(\"Mode frequency\")\n",
    "axarr[1].set_ylabel(\"Mode dissipation\")\n",
    "axarr[2].set_ylabel(\"Mode anharmonicity\")\n",
    "axarr[2].set_xlabel(\"$\\phi/\\phi_0$\")\n",
    "plt.show()"
   ]
  },
  {
   "cell_type": "code",
   "execution_count": 351,
   "metadata": {
    "ExecuteTime": {
     "end_time": "2018-11-09T16:55:23.939000Z",
     "start_time": "2018-11-09T16:55:23.902000Z"
    }
   },
   "outputs": [],
   "source": [
    "cir = L('L_J') | (C('C')+C('C_1')) | (C('Cc')+(C('Cr')|L('Lr')|(C('Cf')+R('R_50'))))"
   ]
  },
  {
   "cell_type": "code",
   "execution_count": 352,
   "metadata": {
    "ExecuteTime": {
     "end_time": "2018-11-09T16:55:24.302000Z",
     "start_time": "2018-11-09T16:55:24.290000Z"
    }
   },
   "outputs": [],
   "source": [
    "def remove_resistances(circuit):\n",
    "    if type(circuit) == lcapy.oneport.L:\n",
    "        return circuit\n",
    "    elif type(circuit) == lcapy.oneport.C:\n",
    "        return circuit\n",
    "    elif type(circuit.args[0])==lcapy.oneport.R:\n",
    "        return circuit.args[1]\n",
    "    elif type(circuit.args[1])==lcapy.oneport.R:\n",
    "        return circuit.args[0]\n",
    "    elif type(circuit) == lcapy.oneport.Par:\n",
    "        return lcapy.Par(remove_resistances(circuit.args[0]),remove_resistances(circuit.args[1]))\n",
    "    elif type(circuit) == lcapy.oneport.Ser:\n",
    "        return lcapy.Ser(remove_resistances(circuit.args[0]),remove_resistances(circuit.args[1]))"
   ]
  },
  {
   "cell_type": "code",
   "execution_count": 353,
   "metadata": {
    "ExecuteTime": {
     "end_time": "2018-11-09T16:55:24.576000Z",
     "start_time": "2018-11-09T16:55:24.562000Z"
    }
   },
   "outputs": [],
   "source": [
    "cir_no_resistance = remove_resistances(cir).simplify()"
   ]
  },
  {
   "cell_type": "code",
   "execution_count": 354,
   "metadata": {
    "ExecuteTime": {
     "end_time": "2018-11-09T16:55:28.174000Z",
     "start_time": "2018-11-09T16:55:25.026000Z"
    }
   },
   "outputs": [
    {
     "data": {
      "image/png": "[encoded data removed]"
     },
     "metadata": {
      "image/png": {
       "height": 240.00000000000003,
       "width": 450
      }
     },
     "output_type": "display_data"
    }
   ],
   "source": [
    "cir_no_resistance.draw()"
   ]
  },
  {
   "cell_type": "code",
   "execution_count": 358,
   "metadata": {
    "ExecuteTime": {
     "end_time": "2018-11-09T17:08:17.026000Z",
     "start_time": "2018-11-09T17:08:16.990000Z"
    }
   },
   "outputs": [
    {
     "name": "stdout",
     "output_type": "stream",
     "text": [
      "C 2 3 {C*C_1/(C + C_1)} 0; right\n",
      "W 1 2; right=0.5\n",
      "W 2 4; up=0.8\n",
      "W 3 5; up=0.8\n",
      "L 4 5 L_J; right\n",
      "W 2 6; down=1.2\n",
      "W 3 7; down=1.2\n",
      "C 6 8 Cc; right\n",
      "W 8 9; right=0.5\n",
      "W 9 10; right=0.5\n",
      "W 10 12; up=0.4\n",
      "W 11 13; up=0.4\n",
      "C 12 13 {C_f + C_r} 0; right\n",
      "W 10 14; down=0.4\n",
      "W 11 15; down=0.4\n",
      "L 14 15 Lr; right\n",
      "W 11 7; right=0.5\n",
      "W 3 0; right=0.5\n"
     ]
    }
   ],
   "source": [
    "print cir_no_resistance.netlist()"
   ]
  },
  {
   "cell_type": "code",
   "execution_count": 357,
   "metadata": {
    "ExecuteTime": {
     "end_time": "2018-11-09T17:06:31.282000Z",
     "start_time": "2018-11-09T17:06:31.249000Z"
    }
   },
   "outputs": [
    {
     "name": "stdout",
     "output_type": "stream",
     "text": [
      "C 2 3 {C*C_1/(C + C_1)} 0; right\n",
      "W 1 2; right=0.5\n",
      "W 2 4; up=0.8\n",
      "W 3 5; up=0.8\n",
      "L 4 5 L_J; right\n",
      "W 2 6; down=1.2\n",
      "W 3 7; down=1.2\n",
      "C 6 8 Cc; right\n",
      "W 8 9; right=0.5\n",
      "W 9 10; right=0.5\n",
      "W 10 12; up=0.4\n",
      "W 11 13; up=0.4\n",
      "C 12 13 {C_f + C_r} 0; right\n",
      "W 10 14; down=0.4\n",
      "W 11 15; down=0.4\n",
      "L 14 15 Lr; right\n",
      "W 11 7; right=0.5\n",
      "W 3 0; right=0.5\n",
      "[['W', 1, 2], ['W', 2, 4], ['W', 3, 5], ['W', 2, 6], ['W', 3, 7], ['W', 8, 9], ['W', 9, 10], ['W', 10, 12], ['W', 11, 13], ['W', 10, 14], ['W', 11, 15], ['W', 11, 7], ['W', 3, 0]]\n"
     ]
    }
   ],
   "source": [
    "wires = []\n",
    "for line in cir_no_resistance.netlist().split('\\n'):\n",
    "    print line\n",
    "    first_split = line.split((' '))\n",
    "    \n",
    "    connection = []\n",
    "    if first_split[0]=='W':\n",
    "        connection.append(first_split[0])\n",
    "        connection.append(int(first_split[1]))\n",
    "        connection.append(int(first_split[2][:-1]))\n",
    "        wires.append(connection)\n",
    "        \n",
    "print wires"
   ]
  }
 ],
 "metadata": {
  "kernelspec": {
   "display_name": "Python [default]",
   "language": "python",
   "name": "python2"
  },
  "language_info": {
   "codemirror_mode": {
    "name": "ipython",
    "version": 2
   },
   "file_extension": ".py",
   "mimetype": "text/x-python",
   "name": "python",
   "nbconvert_exporter": "python",
   "pygments_lexer": "ipython2",
   "version": "2.7.13"
  },
  "toc": {
   "base_numbering": 1,
   "nav_menu": {},
   "number_sections": true,
   "sideBar": true,
   "skip_h1_title": false,
   "title_cell": "Table of Contents",
   "title_sidebar": "Contents",
   "toc_cell": false,
   "toc_position": {
    "height": "calc(100% - 180px)",
    "left": "10px",
    "top": "150px",
    "width": "257px"
   },
   "toc_section_display": true,
   "toc_window_display": false
  }
 },
 "nbformat": 4,
 "nbformat_minor": 2
}
