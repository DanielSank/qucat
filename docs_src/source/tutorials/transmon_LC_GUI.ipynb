{
 "cells": [
  {
   "cell_type": "markdown",
   "metadata": {},
   "source": [
    "# Using qucat with the graphical circuit editor"
   ]
  },
  {
   "cell_type": "markdown",
   "metadata": {},
   "source": [
    "In this example we study a typical circuit QED system consisting of a transmon qubit coupled to a resonator."
   ]
  },
  {
   "cell_type": "code",
   "execution_count": 4,
   "metadata": {
    "ExecuteTime": {
     "end_time": "2019-05-01T17:59:56.035600Z",
     "start_time": "2019-05-01T17:59:53.459600Z"
    }
   },
   "outputs": [],
   "source": [
    "import numpy as np\n",
    "\n",
    "# Import the graphical user interface\n",
    "from qucat import GUI\n",
    "\n",
    "# For the purpose of this tutorial, \n",
    "# we create a file describing the circuit.\n",
    "# This file would usually be created from scratch\n",
    "# by the user after opening the graphical circuit editor.\n",
    "import os\n",
    "os.makedirs('circuits/', exist_ok=True)\n",
    "with open('circuits/transmon_LC_GUI.txt','w') as f:\n",
    "    f.write(\"\"\"C;0,-1;1,-1;1.000000e-15;\n",
    "C;-1,0;-1,-1;1.000000e-13;\n",
    "J;0,0;0,-1;8.000000e-09;\n",
    "W;-1,0;0,0;;\n",
    "W;-1,-1;0,-1;;\n",
    "C;1,0;1,-1;1.000000e-13;\n",
    "L;2,0;2,-1;1.000000e-08;\n",
    "W;1,0;2,0;;\n",
    "W;1,-1;2,-1;;\n",
    "G;2,1;2,0;;\n",
    "G;-1,1;-1,0;;\n",
    "R;3,0;3,-1;1.000000e+06;\n",
    "W;2,0;3,0;;\n",
    "W;2,-1;3,-1;;\n",
    "\"\"\")"
   ]
  },
  {
   "cell_type": "markdown",
   "metadata": {},
   "source": [
    "## Construct the circuit"
   ]
  },
  {
   "cell_type": "markdown",
   "metadata": {},
   "source": [
    "Below we open the editor. All changes made to the circuit are saved automatically to the file ``circuits/transmon_LC_GUI.txt`` and when we shut down the editor, the variable ``cir`` here will become a quantum circuit object ``qucat.Qcircuit`` with which we will analyze the circuit.\n",
    "\n",
    "**Note: by default the junction is parametrized by its josephson inductance**"
   ]
  },
  {
   "cell_type": "code",
   "execution_count": 5,
   "metadata": {
    "ExecuteTime": {
     "end_time": "2019-05-01T17:59:58.387600Z",
     "start_time": "2019-05-01T17:59:56.038600Z"
    }
   },
   "outputs": [
    {
     "data": {
      "image/png": "[encoded data removed]",
      "text/plain": [
       "<Figure size 452.698x177.48 with 1 Axes>"
      ]
     },
     "metadata": {
      "needs_background": "light"
     },
     "output_type": "display_data"
    },
    {
     "name": "stdout",
     "output_type": "stream",
     "text": [
      "C 1 2 1 fF\n",
      "C 0 1 100 fF\n",
      "J 0 1 8 nH\n",
      "C 0 2 100 fF\n",
      "L 0 2 10 nH\n",
      "R 0 2 1 MOhm\n",
      "\n",
      "\n"
     ]
    }
   ],
   "source": [
    "cir = GUI('circuits/transmon_LC_GUI.txt', # location of the circuit file\n",
    "        edit=True, # open the GUI to edit the circuit\n",
    "        plot=True, # plot the circuit after having edited it\n",
    "        print_network=True # print the network\n",
    "       )"
   ]
  },
  {
   "cell_type": "markdown",
   "metadata": {},
   "source": [
    "The netork printed above allows one to verify that the circuit is indeed correct. The first symbol corresponds to the type of element (``C``, ``J``, ``L``, ``R`` for capacitors, junctions, inductors and resistors respectively). The second two following integers correspond to the nodes between which the component is created. Here ``0`` corresponds to the ground node, and we can see that node ``1`` is directly connected to ground through only two elements, a capacitor and a junction. Finally, the last part of a line corresponds to the value of that component."
   ]
  },
  {
   "cell_type": "markdown",
   "metadata": {},
   "source": [
    "## Circuit parameters"
   ]
  },
  {
   "cell_type": "markdown",
   "metadata": {
    "ExecuteTime": {
     "end_time": "2019-04-26T15:28:39.598268Z",
     "start_time": "2019-04-26T15:28:39.547268Z"
    }
   },
   "source": [
    "We now calculate the eigenfrequency, loss-rates, anharmonicity, and Kerr parameters of the circuit. \n",
    "\n",
    "This can be done through the functions ``eigenfrequencies``, ``loss_rates``, ``anharmonicities`` and ``kerr``, which return the specified quantities for each mode, **ordered with increasing mode frequency**.\n"
   ]
  },
  {
   "cell_type": "markdown",
   "metadata": {},
   "source": [
    "### Eigen-frequencies"
   ]
  },
  {
   "cell_type": "code",
   "execution_count": 6,
   "metadata": {
    "ExecuteTime": {
     "end_time": "2019-05-01T18:21:25.060600Z",
     "start_time": "2019-05-01T18:21:25.049600Z"
    }
   },
   "outputs": [
    {
     "data": {
      "text/plain": [
       "array([5.00696407e+09, 5.60042136e+09])"
      ]
     },
     "execution_count": 6,
     "metadata": {},
     "output_type": "execute_result"
    }
   ],
   "source": [
    "cir.eigenfrequencies()"
   ]
  },
  {
   "cell_type": "markdown",
   "metadata": {},
   "source": [
    "This will return a list of the normal modes of the circuit, we can see they are seperated in frequency by 600 MHz, but we still do not which corresponds to the transmon, and which to the resonator.\n",
    "\n",
    "To distinquish the two, we can calculate the anharmonicities of each mode."
   ]
  },
  {
   "cell_type": "markdown",
   "metadata": {},
   "source": [
    "### Anharmonicity"
   ]
  },
  {
   "cell_type": "code",
   "execution_count": 7,
   "metadata": {
    "ExecuteTime": {
     "end_time": "2019-05-01T18:21:25.071600Z",
     "start_time": "2019-05-01T18:21:25.065600Z"
    }
   },
   "outputs": [
    {
     "data": {
      "text/plain": [
       "array([5.83759906e+02, 1.91131052e+08])"
      ]
     },
     "execution_count": 7,
     "metadata": {},
     "output_type": "execute_result"
    }
   ],
   "source": [
    "cir.anharmonicities()"
   ]
  },
  {
   "cell_type": "markdown",
   "metadata": {},
   "source": [
    "The first (lowest frequency) mode, has a very small anharmonicity, whilst the second, has an anharmonicity of 191 MHz. The highest frequency mode thus corresponds to the transmon."
   ]
  },
  {
   "cell_type": "markdown",
   "metadata": {},
   "source": [
    "### Cross-Kerr or dispersive shift"
   ]
  },
  {
   "cell_type": "markdown",
   "metadata": {},
   "source": [
    "In this regime of far detuning in frequency, the two modes will interact through a cross-Kerr or dispersive shift, which quantifies the amount by which one mode will shift if frequency if the other is populated with a photon.\n",
    "\n",
    "We can access this by calculating the Kerr parameters ``K``. In this two dimensional array, the components ``K[i,j]`` correspond to the cross-Kerr interaction of mode ``i`` with mode ``j``. "
   ]
  },
  {
   "cell_type": "code",
   "execution_count": 8,
   "metadata": {
    "ExecuteTime": {
     "end_time": "2019-05-01T18:21:25.088600Z",
     "start_time": "2019-05-01T18:21:25.078600Z"
    }
   },
   "outputs": [
    {
     "data": {
      "text/plain": [
       "668055.8212288043"
      ]
     },
     "execution_count": 8,
     "metadata": {},
     "output_type": "execute_result"
    }
   ],
   "source": [
    "K = cir.kerr()\n",
    "print(\"%.2f kHz\"%(K[0,1]/1e3))"
   ]
  },
  {
   "cell_type": "markdown",
   "metadata": {},
   "source": [
    "From the above, we have found that the cross-Kerr interaction between these two modes is of about 670 kHz.\n",
    "\n",
    "This should correspond to $2\\sqrt{A_0A_1}$ where $A_i$ is the anharmonicity of mode $i$. Let's check that:"
   ]
  },
  {
   "cell_type": "code",
   "execution_count": 9,
   "metadata": {
    "ExecuteTime": {
     "end_time": "2019-05-01T18:21:25.101600Z",
     "start_time": "2019-05-01T18:21:25.092600Z"
    }
   },
   "outputs": [
    {
     "data": {
      "text/plain": [
       "668055.8212288043"
      ]
     },
     "execution_count": 9,
     "metadata": {},
     "output_type": "execute_result"
    }
   ],
   "source": [
    "A = cir.anharmonicities()\n",
    "print(\"%.2f kHz\"%(2*np.sqrt(A[0]*A[1])/1e3))"
   ]
  },
  {
   "cell_type": "markdown",
   "metadata": {},
   "source": [
    "### Loss rates"
   ]
  },
  {
   "cell_type": "markdown",
   "metadata": {},
   "source": [
    "In the studied circuit, the only resistor is located in the resonator. In this regime of large frequency, detuning, we would thus expect the resonator to be more lossy than the transmon."
   ]
  },
  {
   "cell_type": "code",
   "execution_count": 10,
   "metadata": {
    "ExecuteTime": {
     "end_time": "2019-05-01T18:21:25.113600Z",
     "start_time": "2019-05-01T18:21:25.104600Z"
    }
   },
   "outputs": [
    {
     "data": {
      "text/plain": [
       "array([786052.42260112,   1920.57996169])"
      ]
     },
     "execution_count": 10,
     "metadata": {},
     "output_type": "execute_result"
    }
   ],
   "source": [
    "cir.loss_rates()"
   ]
  },
  {
   "cell_type": "markdown",
   "metadata": {},
   "source": [
    "### $T_1$ times"
   ]
  },
  {
   "cell_type": "markdown",
   "metadata": {},
   "source": [
    "When converting these rates to $T_1$ times, one should not forget the $2\\pi$ in the conversion"
   ]
  },
  {
   "cell_type": "code",
   "execution_count": 11,
   "metadata": {
    "ExecuteTime": {
     "end_time": "2019-05-01T18:21:25.120600Z",
     "start_time": "2019-05-01T18:21:25.115600Z"
    },
    "scrolled": true
   },
   "outputs": [
    {
     "name": "stdout",
     "output_type": "stream",
     "text": [
      "[2.02473701e-07 8.28681681e-05]\n"
     ]
    }
   ],
   "source": [
    "T_1 = 1/cir.loss_rates()/2/np.pi\n",
    "print(T_1)"
   ]
  },
  {
   "cell_type": "markdown",
   "metadata": {},
   "source": [
    "All these relevant parameters (frequency, dissipation, anharmonicity and Kerr parameters) can be computed using a single function"
   ]
  },
  {
   "cell_type": "code",
   "execution_count": 12,
   "metadata": {
    "ExecuteTime": {
     "end_time": "2019-05-01T18:21:25.130600Z",
     "start_time": "2019-05-01T18:21:25.123600Z"
    },
    "scrolled": true
   },
   "outputs": [
    {
     "data": {
      "text/plain": [
       "(array([5.00696407e+09, 5.60042136e+09]),\n",
       " array([786052.42260112,   1920.57996169]),\n",
       " array([5.83759906e+02, 1.91131052e+08]),\n",
       " array([[5.83759906e+02, 6.68055821e+05],\n",
       "        [6.68055821e+05, 1.91131052e+08]]))"
      ]
     },
     "execution_count": 12,
     "metadata": {},
     "output_type": "execute_result"
    }
   ],
   "source": [
    "cir.f_k_A_chi()"
   ]
  },
  {
   "cell_type": "markdown",
   "metadata": {},
   "source": [
    "Using the option ``pretty_print = True`` a more readable summary can be printed"
   ]
  },
  {
   "cell_type": "code",
   "execution_count": 13,
   "metadata": {
    "ExecuteTime": {
     "end_time": "2019-05-01T18:21:25.137600Z",
     "start_time": "2019-05-01T18:21:25.132600Z"
    }
   },
   "outputs": [
    {
     "name": "stdout",
     "output_type": "stream",
     "text": [
      "    mode |  freq.  |  diss.  |  anha.  |\n",
      "       0 | 5.01 GHz | 786 kHz |  584 Hz |\n",
      "       1 | 5.6 GHz | 1.92 kHz | 191 MHz |\n",
      "\n",
      "Kerr coefficients\n",
      "(diagonal = Kerr, off-diagonal = cross-Kerr)\n",
      "    mode |    0    |    1    |\n",
      "       0 |  584 Hz |         |\n",
      "       1 | 668 kHz | 191 MHz |\n",
      "\n"
     ]
    }
   ],
   "source": [
    "f,k,A,chi = cir.f_k_A_chi(pretty_print=True)"
   ]
  },
  {
   "cell_type": "markdown",
   "metadata": {},
   "source": [
    "## Sweeping a parameter"
   ]
  },
  {
   "cell_type": "code",
   "execution_count": 14,
   "metadata": {},
   "outputs": [],
   "source": [
    "# For the second part of this tutorial, we will need\n",
    "# a new circuit defined by the file below.\n",
    "# This file would usually be created from scratch\n",
    "# by the user after opening the graphical circuit editor.\n",
    "with open('circuits/transmon_LC_GUI_symbolic.txt','w') as f:\n",
    "    f.write(\"\"\"C;0,-1;1,-1;1.000000e-15;\n",
    "C;-1,0;-1,-1;1.000000e-13;\n",
    "J;0,0;0,-1;;L_J\n",
    "W;-1,0;0,0;;\n",
    "W;-1,-1;0,-1;;\n",
    "C;1,0;1,-1;1.000000e-13;\n",
    "L;2,0;2,-1;1.000000e-08;\n",
    "W;1,0;2,0;;\n",
    "W;1,-1;2,-1;;\n",
    "G;2,1;2,0;;\n",
    "G;-1,1;-1,0;;\n",
    "R;3,0;3,-1;1.000000e+06;\n",
    "W;2,0;3,0;;\n",
    "W;2,-1;3,-1;;\n",
    "\"\"\")"
   ]
  },
  {
   "cell_type": "markdown",
   "metadata": {},
   "source": [
    "Below we open the editor again, this time with a different file, corresponding to a slightly different circuit."
   ]
  },
  {
   "cell_type": "code",
   "execution_count": 16,
   "metadata": {},
   "outputs": [
    {
     "data": {
      "image/png": "[encoded data removed]",
      "text/plain": [
       "<Figure size 452.698x177.48 with 1 Axes>"
      ]
     },
     "metadata": {
      "needs_background": "light"
     },
     "output_type": "display_data"
    }
   ],
   "source": [
    "cir = GUI('circuits/transmon_LC_GUI_symbolic.txt', # location of the circuit file\n",
    "        edit=True, # open the GUI to edit the circuit\n",
    "        plot=True, # plot the circuit after having edited it\n",
    "        print_network=False # print the network\n",
    "       )"
   ]
  },
  {
   "cell_type": "markdown",
   "metadata": {},
   "source": [
    "Notice that the junction does not have a value anymore\n",
    "here but a symbolic label ``L_J``.\n",
    "This is because in this example, \n",
    "we wish to sweep the josephson inductance.\n",
    "\n",
    "The most computationally expensive part of the \n",
    "analysis is performed upon initializing the circuit. \n",
    "To avoid doing at each iteration of our sweep, \n",
    "we have the option to enter a symbolic value for a component.\n",
    "    \n",
    "Its value can then be passed\n",
    "as a keyword argument in subsequent function calls ``L_J=1e-9``. "
   ]
  },
  {
   "cell_type": "markdown",
   "metadata": {},
   "source": [
    "The code below computes the frequency, anharmonicity, loss rates, and Kerr parameters of the circuit for a varying Josephson inductance."
   ]
  },
  {
   "cell_type": "code",
   "execution_count": 17,
   "metadata": {
    "ExecuteTime": {
     "end_time": "2019-05-01T17:59:59.585600Z",
     "start_time": "2019-05-01T17:59:58.391600Z"
    }
   },
   "outputs": [
    {
     "data": {
      "image/png": "[encoded data removed]",
      "text/plain": [
       "<Figure size 576x288 with 4 Axes>"
      ]
     },
     "metadata": {
      "needs_background": "light"
     },
     "output_type": "display_data"
    }
   ],
   "source": [
    "import matplotlib.pyplot as plt\n",
    "\n",
    "# Create a 2x2 grid of plots\n",
    "fig,ax = plt.subplots(2,2,sharex = True,figsize = (8,4))\n",
    "\n",
    "# Here we specify the values the junction inductance should take\n",
    "L_J = np.linspace(11e-9,9e-9, 1001)\n",
    "\n",
    "# Calculate an array of eigenfrequencies\n",
    "freqs = [cir.eigenfrequencies(L_J = x)/1e9 for x in L_J]\n",
    "\n",
    "# Calculate an array of loss-rates\n",
    "losses =[cir.loss_rates(L_J = x)/1e6 for x in L_J]\n",
    "\n",
    "# Calculate an array of anharmonicities\n",
    "anharmonicities = [cir.anharmonicities(L_J = x)/1e6 for x in L_J]\n",
    "\n",
    "# Calculate an array of dispersive shifts chi\n",
    "chi = [cir.kerr(L_J = x)[0,1]/1e6 for x in L_J]\n",
    "\n",
    "# plot the frequencies\n",
    "ax[0][0].plot(L_J*1e9,freqs)\n",
    "ax[0][0].set_ylabel('$\\omega_m$ (GHz)')\n",
    "\n",
    "# plot the loss-rates\n",
    "ax[0][1].plot(L_J*1e9,losses)\n",
    "ax[0][1].set_ylabel('$\\kappa_m$ (MHz)')\n",
    "\n",
    "# plot the anharmonicities\n",
    "ax[1][0].plot(L_J*1e9,anharmonicities)\n",
    "ax[1][0].set_ylabel('$A_m$ (MHz)')\n",
    "\n",
    "# Cplot the dispersive shifts\n",
    "ax[1][1].plot(L_J*1e9,chi)\n",
    "ax[1][1].set_ylabel('$\\chi_{01}$ (MHz)')\n",
    "\n",
    "# set the x labels\n",
    "ax[1][0].set_xlabel('$L_J$ (nH)')\n",
    "ax[1][1].set_xlabel('$L_J$ (nH)')\n",
    "\n",
    "# display the plot\n",
    "plt.tight_layout()\n",
    "plt.show()"
   ]
  },
  {
   "cell_type": "markdown",
   "metadata": {},
   "source": [
    "Alternatively, we can obtain all these parameters at once for a given value of the junction inductance"
   ]
  },
  {
   "cell_type": "code",
   "execution_count": 18,
   "metadata": {
    "ExecuteTime": {
     "end_time": "2019-05-01T18:03:19.320600Z",
     "start_time": "2019-05-01T18:03:19.314600Z"
    }
   },
   "outputs": [
    {
     "name": "stdout",
     "output_type": "stream",
     "text": [
      "    mode |  freq.  |  diss.  |  anha.  |\n",
      "       0 | 4.98 GHz | 390 kHz | 47.5 MHz |\n",
      "       1 | 5.03 GHz | 398 kHz | 48.4 MHz |\n",
      "\n",
      "Kerr coefficients\n",
      "(diagonal = Kerr, off-diagonal = cross-Kerr)\n",
      "    mode |    0    |    1    |\n",
      "       0 | 47.5 MHz |         |\n",
      "       1 | 95.9 MHz | 48.4 MHz |\n",
      "\n"
     ]
    }
   ],
   "source": [
    "f,k,A,chi = cir.f_k_A_chi(L_J=1e-8,pretty_print = True)"
   ]
  },
  {
   "cell_type": "markdown",
   "metadata": {},
   "source": [
    "## Visualizing normal modes"
   ]
  },
  {
   "cell_type": "markdown",
   "metadata": {},
   "source": [
    "We now concentrate on the resonance point, when the normal mode splitting occurs ``L_J = 10e-9``\n",
    "\n",
    "We use the ``show_normal_mode`` function to visualize the two different modes.\n",
    "\n",
    "In the plot below, the size and annotation of the arrows corresponds to the complex amplitude of the current entering a component if a single-photon coherent state were populating a given mode ``m``.\n",
    "\n",
    "In the limit of high quality factor modes, this amplitude is approximately equal to the contribution of the mode ``m`` to the zero-point fluctuations in current $i_\\text{zpf,m}$ entering that component, such that the operator for the total current entering a component is\n",
    "\n",
    "$\\hat{i} = \\sum_m i_\\text{zpf,m}(\\hat{a}_m+\\hat{a}_m^\\dagger)$\n",
    "\n",
    "where $\\hat{a}_m$ is the annihilation operator of mode ``m``.\n",
    "\n",
    "The direction of the arrows show what we are defining as positive current for that component.\n",
    "\n",
    "By changing the parameter ``quantity``, we show the value of other zero-point fluctuations, and we can enter ``'voltage'``, ``'charge'``, or ``'flux'``."
   ]
  },
  {
   "cell_type": "code",
   "execution_count": 19,
   "metadata": {
    "ExecuteTime": {
     "end_time": "2019-05-01T18:00:00.168600Z",
     "start_time": "2019-05-01T17:59:59.589600Z"
    },
    "scrolled": false
   },
   "outputs": [
    {
     "data": {
      "image/png": "[encoded data removed]",
      "text/plain": [
       "<Figure size 674.698x304.92 with 1 Axes>"
      ]
     },
     "metadata": {
      "needs_background": "light"
     },
     "output_type": "display_data"
    },
    {
     "data": {
      "image/png": "[encoded data removed]",
      "text/plain": [
       "<Figure size 674.698x304.92 with 1 Axes>"
      ]
     },
     "metadata": {
      "needs_background": "light"
     },
     "output_type": "display_data"
    }
   ],
   "source": [
    "cir.show_normal_mode(mode=0,quantity='current', L_J = 10e-9)\n",
    "cir.show_normal_mode(mode=1,quantity='current', L_J = 10e-9)"
   ]
  },
  {
   "cell_type": "markdown",
   "metadata": {},
   "source": [
    "We see above that the symmetry on each side of the coupling capacitor is changing between the modes, the above is called the anti-symmetric mode, with a voltage build-up on either side of the coupling capacitor leading to a larger current going through it. Mode 1 is the anti-symmetric mode.\n",
    "\n",
    "These zero-point fluctuations can also be accessed programmatically in the case we build the circuit with the Network function, see below:"
   ]
  },
  {
   "cell_type": "code",
   "execution_count": 36,
   "metadata": {
    "ExecuteTime": {
     "end_time": "2019-05-01T18:00:00.267600Z",
     "start_time": "2019-05-01T18:00:00.171600Z"
    }
   },
   "outputs": [],
   "source": [
    "# Import the circuit builder\n",
    "from qucat import Network\n",
    "# Import the circuit components\n",
    "from qucat import L,J,C,R\n",
    "\n",
    "# create the coupling capacitor seperately, \n",
    "# enabling us to interact with it afterwards\n",
    "coupling_capacitor = C(\n",
    "    1,# value of the negative-voltage node of the capacitor\n",
    "    2,# value of the positive-voltage node of the capacitor\n",
    "    1e-15# capacitance (in Farad) of the capacitor\n",
    ")\n",
    "\n",
    "# construct the circuit, \n",
    "# each is constructed as the coupling capacitor\n",
    "# with a negative and positive node and a value\n",
    "# this implements the circuit created above with the GUI\n",
    "cir_net = Network([\n",
    "    C(0,1,100e-15),\n",
    "    J(0,1,10e-9),\n",
    "    coupling_capacitor,\n",
    "    C(2,0,100e-15),\n",
    "    L(2,0,10e-9),\n",
    "    R(2,0,1e6)\n",
    "])"
   ]
  },
  {
   "cell_type": "raw",
   "metadata": {},
   "source": [
    "The lower frequency (anti-symmetric)  mode has a frequency:"
   ]
  },
  {
   "cell_type": "code",
   "execution_count": 38,
   "metadata": {
    "ExecuteTime": {
     "end_time": "2019-05-01T18:00:00.275600Z",
     "start_time": "2019-05-01T18:00:00.268600Z"
    }
   },
   "outputs": [
    {
     "name": "stdout",
     "output_type": "stream",
     "text": [
      "4.98 GHz\n"
     ]
    }
   ],
   "source": [
    "f = cir_net.eigenfrequencies()[0]\n",
    "print(\"%.2f GHz\"%(f/1e9))"
   ]
  },
  {
   "cell_type": "markdown",
   "metadata": {},
   "source": [
    "Which is lower due a higher zero-point current fluctuation in the coupling capacitor"
   ]
  },
  {
   "cell_type": "code",
   "execution_count": 40,
   "metadata": {
    "ExecuteTime": {
     "end_time": "2019-05-01T18:00:00.291600Z",
     "start_time": "2019-05-01T18:00:00.278600Z"
    }
   },
   "outputs": [
    {
     "name": "stdout",
     "output_type": "stream",
     "text": [
      "178.09 pA\n"
     ]
    }
   ],
   "source": [
    "zpf = coupling_capacitor.zpf(mode = 0, quantity = 'current')\n",
    "print(\"%.2f pA\"%(np.absolute(zpf)*1e12))"
   ]
  },
  {
   "cell_type": "markdown",
   "metadata": {},
   "source": [
    "Compared to the symmetric mode with frequency:"
   ]
  },
  {
   "cell_type": "code",
   "execution_count": 42,
   "metadata": {
    "ExecuteTime": {
     "end_time": "2019-05-01T18:00:00.300600Z",
     "start_time": "2019-05-01T18:00:00.293600Z"
    }
   },
   "outputs": [
    {
     "name": "stdout",
     "output_type": "stream",
     "text": [
      "5.03 GHz\n"
     ]
    }
   ],
   "source": [
    "f = cir_net.eigenfrequencies()[1]\n",
    "print(\"%.2f GHz\"%(f/1e9))"
   ]
  },
  {
   "cell_type": "markdown",
   "metadata": {},
   "source": [
    "And zero-point current fluctuation in the coupling capacitor"
   ]
  },
  {
   "cell_type": "code",
   "execution_count": 41,
   "metadata": {
    "ExecuteTime": {
     "end_time": "2019-05-01T18:00:00.313600Z",
     "start_time": "2019-05-01T18:00:00.302600Z"
    }
   },
   "outputs": [
    {
     "name": "stdout",
     "output_type": "stream",
     "text": [
      "0.08 pA\n"
     ]
    }
   ],
   "source": [
    "zpf = coupling_capacitor.zpf(mode = 1, quantity = 'current')\n",
    "print(\"%.2f pA\"%(np.absolute(zpf)*1e12))"
   ]
  },
  {
   "cell_type": "markdown",
   "metadata": {},
   "source": [
    "The quantity plotted with ``show_normal_mode`` is not the zero-point fluctuations, but the complex amplitude entering a component, which -- unlike the zero-point fluctuations -- can be complex. We call this quantity the phasor (see https://en.wikipedia.org/wiki/Phasor)."
   ]
  },
  {
   "cell_type": "code",
   "execution_count": 31,
   "metadata": {},
   "outputs": [
    {
     "data": {
      "text/plain": [
       "(7.978833273683426e-14-2.885608631986343e-12j)"
      ]
     },
     "execution_count": 31,
     "metadata": {},
     "output_type": "execute_result"
    }
   ],
   "source": [
    "coupling_capacitor.phasor(mode = 1, quantity = 'current')"
   ]
  },
  {
   "cell_type": "markdown",
   "metadata": {},
   "source": [
    "As you can see, this value is close to the zero-point fluctuations, which is always the case for high quality factor mode."
   ]
  },
  {
   "cell_type": "markdown",
   "metadata": {},
   "source": [
    "## Further analysis in QuTiP"
   ]
  },
  {
   "cell_type": "markdown",
   "metadata": {},
   "source": [
    "The Hamiltonian of the circuit, with the non-linearity of the Josephson junctions\n",
    "Taylor-expanded, is given by\n",
    "\n",
    "$\\hat{H} = \\sum_{m\\in\\text{modes}} hf_m\\hat{a}_m^\\dagger\\hat{a}_m +\\sum_j\\sum_{2n\\le\\text{taylor}}E_j\\frac{(-1)^{n+1}}{(2n)!}\\left(\\frac{\\phi_{zpf,m,j}}{\\phi_0}(\\hat{a}_m^\\dagger+\\hat{a}_m)\\right)^{2n}$\n",
    "\n",
    "And in its construction, we have the freedom to choose the set of ``modes`` to include, the order of the Taylor expansion of the junction potential, and the number of excitations of each mode to consider.\n",
    "\n",
    "We will use the diagonalization of the hamiltonian to produce the evolution of two first transition frequencies of the system as a function of ``L_J``"
   ]
  },
  {
   "cell_type": "code",
   "execution_count": 32,
   "metadata": {
    "ExecuteTime": {
     "end_time": "2019-05-01T18:19:59.200600Z",
     "start_time": "2019-05-01T18:19:57.997600Z"
    }
   },
   "outputs": [],
   "source": [
    "# This will hold the calculated eigen-energies of the system\n",
    "eigen_energies = []\n",
    "\n",
    "# Values of the josephson inductance we will be sweeping\n",
    "L_J = np.linspace(10e-9,8e-9, 101)\n",
    "\n",
    "for x in L_J:\n",
    "    # The hamiltonian function returns a QuTiP Hamiltonian where (h=1), meaning\n",
    "    # that the hamiltonian has units of frequency (not angular frequency)\n",
    "    H = cir.hamiltonian(\n",
    "        modes = [0,1],# Consider modes 0 and 1\n",
    "        taylor = 8,# Expand the Josephson potential up to the 8th order\n",
    "        excitations = [10,12], # Consider 10 excitations in the lower frequency mode 0, 12 in mode 1\n",
    "        L_J = x)# We have to specify a value of the josephson inductance\n",
    "                # since we didn't specify it when constructing the circuit\n",
    "        \n",
    "    # Calculate the eigenenergies (here in units of frequency) using the qutip\n",
    "    # function eigenenergies, and add the values to the eigen_energies list\n",
    "    eigen_energies.append(H.eigenenergies())\n",
    "    \n",
    "# Qutip will return complex values with 0 imaginary parts, \n",
    "# we want to convert them to real numbers here\n",
    "eigen_energies = np.absolute(eigen_energies)"
   ]
  },
  {
   "cell_type": "markdown",
   "metadata": {},
   "source": [
    "We now plot the two first eigenergies of the system"
   ]
  },
  {
   "cell_type": "code",
   "execution_count": 34,
   "metadata": {
    "ExecuteTime": {
     "end_time": "2019-05-01T18:19:59.378600Z",
     "start_time": "2019-05-01T18:19:59.201600Z"
    }
   },
   "outputs": [
    {
     "data": {
      "image/png": "[encoded data removed]",
      "text/plain": [
       "<Figure size 432x288 with 1 Axes>"
      ]
     },
     "metadata": {
      "needs_background": "light"
     },
     "output_type": "display_data"
    }
   ],
   "source": [
    "first_transition = (eigen_energies[:,1]-eigen_energies[:,0])\n",
    "second_transition = (eigen_energies[:,2]-eigen_energies[:,0])\n",
    "\n",
    "plt.plot(L_J*1e9,first_transition/1e9)\n",
    "plt.plot(L_J*1e9,second_transition/1e9)\n",
    "plt.xlabel('L_J (nH)')\n",
    "plt.ylabel('First two transitions of the circuit (GHz)')\n",
    "plt.show()"
   ]
  },
  {
   "cell_type": "markdown",
   "metadata": {},
   "source": [
    "Note that the splitting does not occur at 10nH anymore. This is because the Transmon \"bare\" frequency is shifted by the quantum fluctuations through the junctions.\n",
    "\n",
    "However, the magnitude of the frequency spliting that occurs is approximately the same and can be predicted without recourse to a Hamiltonian diagonalization. This splitting is also twice the coupling $g$ that one would use when formulating this problem in the context of the Rabi or Jaynes-Cummings Hamiltonian."
   ]
  },
  {
   "cell_type": "code",
   "execution_count": 14,
   "metadata": {
    "ExecuteTime": {
     "end_time": "2019-05-01T18:21:15.885600Z",
     "start_time": "2019-05-01T18:21:15.863600Z"
    }
   },
   "outputs": [
    {
     "name": "stdout",
     "output_type": "stream",
     "text": [
      "Quantum calculation -- Rabi splitting is 49.66 MHz\n",
      "Classical calculation -- normal-mode splitting is 49.58 MHz\n"
     ]
    }
   ],
   "source": [
    "rabi_splitting = min(second_transition-first_transition)/1e6\n",
    "mode_splitting = (cir.eigenfrequencies(L_J=10e-9)[1]-cir.eigenfrequencies(L_J=10e-9)[0])/1e6\n",
    "\n",
    "print(\"Quantum calculation -- Rabi splitting is %.2f MHz\"%rabi_splitting)\n",
    "print(\"Classical calculation -- normal-mode splitting is %.2f MHz\"%mode_splitting)"
   ]
  }
 ],
 "metadata": {
  "kernelspec": {
   "display_name": "Python 3",
   "language": "python",
   "name": "python3"
  },
  "language_info": {
   "codemirror_mode": {
    "name": "ipython",
    "version": 3
   },
   "file_extension": ".py",
   "mimetype": "text/x-python",
   "name": "python",
   "nbconvert_exporter": "python",
   "pygments_lexer": "ipython3",
   "version": "3.7.3"
  },
  "toc": {
   "base_numbering": 1,
   "nav_menu": {},
   "number_sections": true,
   "sideBar": true,
   "skip_h1_title": false,
   "title_cell": "Table of Contents",
   "title_sidebar": "Contents",
   "toc_cell": false,
   "toc_position": {},
   "toc_section_display": true,
   "toc_window_display": false
  }
 },
 "nbformat": 4,
 "nbformat_minor": 2
}
