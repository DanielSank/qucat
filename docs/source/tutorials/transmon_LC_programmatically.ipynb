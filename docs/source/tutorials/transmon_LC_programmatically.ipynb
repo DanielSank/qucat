{
 "cells": [
  {
   "cell_type": "markdown",
   "metadata": {},
   "source": [
    "# Coupled Transmon / LC-oscillator (without the GUI)"
   ]
  },
  {
   "cell_type": "markdown",
   "metadata": {},
   "source": [
    "The first step is to import the objects we will be needing from Qcircuits"
   ]
  },
  {
   "cell_type": "code",
   "execution_count": 76,
   "metadata": {
    "ExecuteTime": {
     "end_time": "2019-05-01T13:14:32.329400Z",
     "start_time": "2019-05-01T13:14:32.324400Z"
    }
   },
   "outputs": [],
   "source": [
    "# Import the circuit builder\n",
    "from Qcircuits import Network\n",
    "# Import the circuit components\n",
    "from Qcircuits import L,J,C,R\n",
    "\n",
    "import numpy as np"
   ]
  },
  {
   "cell_type": "markdown",
   "metadata": {
    "ExecuteTime": {
     "end_time": "2019-05-01T07:50:26.465400Z",
     "start_time": "2019-05-01T07:50:26.445400Z"
    }
   },
   "source": [
    "## Building the circuit\n",
    "\n",
    "Note that the components (``R``, ``L``, ``C``, ``J``) accept node indexes as their two \n",
    "first arguments, \n",
    "here we will use the node ``0`` to designate ground. The last arguments should be \n",
    "a label (``str``) or a value (``float``) or both, the order in which these\n",
    "arguments are provided are unimportant.\n",
    "\n",
    "For the moment, we will specify the value of all the components"
   ]
  },
  {
   "cell_type": "code",
   "execution_count": 77,
   "metadata": {
    "ExecuteTime": {
     "end_time": "2019-05-01T13:14:32.380400Z",
     "start_time": "2019-05-01T13:14:32.337400Z"
    }
   },
   "outputs": [],
   "source": [
    "cir = Network([\n",
    "    C(0,1,100e-15),\n",
    "    J(0,1,8e-9),\n",
    "    C(1,2,1e-15),\n",
    "    C(2,0,100e-15),\n",
    "    L(2,0,10e-9),\n",
    "    R(2,0,1e6)\n",
    "])"
   ]
  },
  {
   "cell_type": "markdown",
   "metadata": {
    "ExecuteTime": {
     "end_time": "2019-05-01T07:56:51.796400Z",
     "start_time": "2019-05-01T07:56:51.758400Z"
    }
   },
   "source": [
    "This implements the following circuit, where we have also indexed the nodes, and we have fixed the value of $L_J$ to ``8e-9``"
   ]
  },
  {
   "cell_type": "code",
   "execution_count": 78,
   "metadata": {
    "ExecuteTime": {
     "end_time": "2019-05-01T13:14:32.389400Z",
     "start_time": "2019-05-01T13:14:32.383400Z"
    }
   },
   "outputs": [
    {
     "data": {
      "image/png": "[encoded data removed]",
      "text/plain": [
       "<IPython.core.display.Image object>"
      ]
     },
     "execution_count": 78,
     "metadata": {},
     "output_type": "execute_result"
    }
   ],
   "source": [
    "from IPython.display import Image\n",
    "Image(\"graphics/transmon_LC_programmatically_1.png\")"
   ]
  },
  {
   "cell_type": "markdown",
   "metadata": {
    "ExecuteTime": {
     "end_time": "2019-05-01T08:03:15.316400Z",
     "start_time": "2019-05-01T08:03:15.302400Z"
    }
   },
   "source": [
    "We now calculate the eigenfrequency, loss-rates, anharmonicity, and Kerr parameters of the circuit. \n",
    "\n",
    "This can be done through the functions ``eigenfrequencies``, ``loss_rates``, ``anharmonicities`` and ``kerr``, which return the specified quantities for each mode, **ordered with increasing mode frequency**"
   ]
  },
  {
   "cell_type": "markdown",
   "metadata": {},
   "source": [
    "## Calculating circuit parameters"
   ]
  },
  {
   "cell_type": "markdown",
   "metadata": {},
   "source": [
    "### Eigen-frequencies"
   ]
  },
  {
   "cell_type": "code",
   "execution_count": 79,
   "metadata": {
    "ExecuteTime": {
     "end_time": "2019-05-01T13:14:32.401400Z",
     "start_time": "2019-05-01T13:14:32.392400Z"
    }
   },
   "outputs": [
    {
     "data": {
      "text/plain": [
       "array([5.00696407e+09, 5.60042136e+09])"
      ]
     },
     "execution_count": 79,
     "metadata": {},
     "output_type": "execute_result"
    }
   ],
   "source": [
    "cir.eigenfrequencies()"
   ]
  },
  {
   "cell_type": "markdown",
   "metadata": {},
   "source": [
    "This will return a list of the normal modes of the circuit, we can see they are seperated in frequency by 600 MHz, but we still do not which corresponds to the transmon, and which to the resonator.\n",
    "\n",
    "To distinquish the two, we can calculate the anharmonicities of each mode."
   ]
  },
  {
   "cell_type": "markdown",
   "metadata": {},
   "source": [
    "### Anharmonicity"
   ]
  },
  {
   "cell_type": "code",
   "execution_count": 80,
   "metadata": {
    "ExecuteTime": {
     "end_time": "2019-05-01T13:14:32.414400Z",
     "start_time": "2019-05-01T13:14:32.405400Z"
    }
   },
   "outputs": [
    {
     "data": {
      "text/plain": [
       "array([5.83759906e+02, 1.91131052e+08])"
      ]
     },
     "execution_count": 80,
     "metadata": {},
     "output_type": "execute_result"
    }
   ],
   "source": [
    "cir.anharmonicities()"
   ]
  },
  {
   "cell_type": "markdown",
   "metadata": {},
   "source": [
    "The first (lowest frequency) mode, has a very small anharmonicity, whilst the second, has an anharmonicity of 191 MHz. The highest frequency mode thus corresponds to the transmon."
   ]
  },
  {
   "cell_type": "markdown",
   "metadata": {},
   "source": [
    "### Cross-Kerr or dispersive shift"
   ]
  },
  {
   "cell_type": "markdown",
   "metadata": {},
   "source": [
    "In this regime of far detuning in frequency, the two modes will interact through a cross-Kerr or dispersive shift, which quantifies the amount by which one mode will shift if frequency if the other is populated with a photon.\n",
    "\n",
    "We can access this by calculating the Kerr parameters."
   ]
  },
  {
   "cell_type": "code",
   "execution_count": 81,
   "metadata": {
    "ExecuteTime": {
     "end_time": "2019-05-01T13:14:32.427400Z",
     "start_time": "2019-05-01T13:14:32.419400Z"
    }
   },
   "outputs": [
    {
     "data": {
      "text/plain": [
       "668055.8212288042"
      ]
     },
     "execution_count": 81,
     "metadata": {},
     "output_type": "execute_result"
    }
   ],
   "source": [
    "K = cir.kerr()\n",
    "K[0,1]"
   ]
  },
  {
   "cell_type": "markdown",
   "metadata": {},
   "source": [
    "In this two dimensional array, the components ``K[i,j]`` correspond to the cross-Kerr interaction of mode ``i`` with mode ``j``. From the above, we have found that the cross-Kerr interaction between these two modes is of about 670 kHz.\n",
    "\n",
    "This should correspond to $2\\sqrt{A_0A_1}$ where $A_i$ is the anharmonicity of mode $i$"
   ]
  },
  {
   "cell_type": "code",
   "execution_count": 82,
   "metadata": {
    "ExecuteTime": {
     "end_time": "2019-05-01T13:14:32.437400Z",
     "start_time": "2019-05-01T13:14:32.430400Z"
    }
   },
   "outputs": [
    {
     "data": {
      "text/plain": [
       "668055.8212288042"
      ]
     },
     "execution_count": 82,
     "metadata": {},
     "output_type": "execute_result"
    }
   ],
   "source": [
    "A = cir.anharmonicities()\n",
    "2*np.sqrt(A[0]*A[1])"
   ]
  },
  {
   "cell_type": "markdown",
   "metadata": {},
   "source": [
    "### Loss rates"
   ]
  },
  {
   "cell_type": "markdown",
   "metadata": {},
   "source": [
    "In the studied circuit, the only resistor is located in the resonator. In this regime of large frequency, detuning, we would thus expect the resonator to be more lossy than the transmon."
   ]
  },
  {
   "cell_type": "code",
   "execution_count": 83,
   "metadata": {
    "ExecuteTime": {
     "end_time": "2019-05-01T13:14:32.445400Z",
     "start_time": "2019-05-01T13:14:32.439400Z"
    }
   },
   "outputs": [
    {
     "data": {
      "text/plain": [
       "array([786052.42260112,   1920.57996169])"
      ]
     },
     "execution_count": 83,
     "metadata": {},
     "output_type": "execute_result"
    }
   ],
   "source": [
    "cir.loss_rates()"
   ]
  },
  {
   "cell_type": "markdown",
   "metadata": {},
   "source": [
    "### T_1"
   ]
  },
  {
   "cell_type": "markdown",
   "metadata": {},
   "source": [
    "When converting these rates to $T_1$ times, one should not forget the $2\\pi$ in the conversion"
   ]
  },
  {
   "cell_type": "code",
   "execution_count": 84,
   "metadata": {
    "ExecuteTime": {
     "end_time": "2019-05-01T13:14:32.451400Z",
     "start_time": "2019-05-01T13:14:32.447400Z"
    }
   },
   "outputs": [],
   "source": [
    "T_1 = 1/cir.loss_rates()/2/np.pi"
   ]
  },
  {
   "cell_type": "markdown",
   "metadata": {},
   "source": [
    "All these relevant parameters can be computed using a single function"
   ]
  },
  {
   "cell_type": "code",
   "execution_count": 85,
   "metadata": {
    "ExecuteTime": {
     "end_time": "2019-05-01T13:14:32.462400Z",
     "start_time": "2019-05-01T13:14:32.453400Z"
    }
   },
   "outputs": [
    {
     "data": {
      "text/plain": [
       "(array([5.00696407e+09, 5.60042136e+09]),\n",
       " array([786052.42260112,   1920.57996169]),\n",
       " array([5.83759906e+02, 1.91131052e+08]),\n",
       " array([[5.83759906e+02, 6.68055821e+05],\n",
       "        [6.68055821e+05, 1.91131052e+08]]))"
      ]
     },
     "execution_count": 85,
     "metadata": {},
     "output_type": "execute_result"
    }
   ],
   "source": [
    "cir.f_k_A_chi()"
   ]
  },
  {
   "cell_type": "markdown",
   "metadata": {},
   "source": [
    "And using the option ``pretty_print = True`` a more readable summary can be printed"
   ]
  },
  {
   "cell_type": "code",
   "execution_count": 86,
   "metadata": {
    "ExecuteTime": {
     "end_time": "2019-05-01T13:14:32.469400Z",
     "start_time": "2019-05-01T13:14:32.464400Z"
    }
   },
   "outputs": [
    {
     "name": "stdout",
     "output_type": "stream",
     "text": [
      "    mode |  freq.  |  diss.  |  anha.  |\n",
      "       0 | 5.0 GHz | 786 kHz |  584 Hz |\n",
      "       1 | 5.6 GHz | 1.9 kHz | 191 MHz |\n",
      "\n",
      "Kerr coefficients\n",
      "(diagonal = Kerr, off-diagonal = cross-Kerr)\n",
      "    mode |    0    |    1    |\n",
      "       0 |  584 Hz |         |\n",
      "       1 | 668 kHz | 191 MHz |\n",
      "\n"
     ]
    }
   ],
   "source": [
    "f,k,A,chi = cir.f_k_A_chi(pretty_print=True)"
   ]
  },
  {
   "cell_type": "markdown",
   "metadata": {},
   "source": [
    "## Hamiltonian, and further analysis with QuTiP"
   ]
  },
  {
   "cell_type": "markdown",
   "metadata": {},
   "source": [
    "### Generating a Hamiltonian"
   ]
  },
  {
   "cell_type": "markdown",
   "metadata": {},
   "source": [
    "The Hamiltonian of the circuit, with the non-linearity of the Josephson junctions\n",
    "Taylor-expanded, is given by\n",
    "\n",
    "\\begin{equation}\n",
    "\\hat{H} = \\sum_{m\\in\\text{modes}} hf_m\\hat{a}_m^\\dagger\\hat{a}_m +\\sum_j\\sum_{2n\\le\\text{taylor}}E_j\\frac{(-1)^{n+1}}{(2n)!}\\left(\\frac{\\phi_{zpf,m,j}}{\\phi_0}(\\hat{a}_m^\\dagger+\\hat{a}_m)\\right)^{2n}\n",
    "\\end{equation}\n",
    "\n",
    "And in its construction, we have the freedom to choose the set of ``modes`` to include, the order of the Taylor expansion of the junction potential, and the number of excitations of each mode to consider."
   ]
  },
  {
   "cell_type": "code",
   "execution_count": 87,
   "metadata": {
    "ExecuteTime": {
     "end_time": "2019-05-01T13:14:32.487400Z",
     "start_time": "2019-05-01T13:14:32.471400Z"
    }
   },
   "outputs": [],
   "source": [
    "# Compute hamiltonian (for h=1, so all energies are expressed in frequency units, not angular)\n",
    "H = cir.hamiltonian(modes = [0,1],taylor = 4,excitations = [10,10])\n",
    "\n",
    "# QuTiP method which return the eigenergies of the system\n",
    "ee = H.eigenenergies()"
   ]
  },
  {
   "cell_type": "markdown",
   "metadata": {},
   "source": [
    "The first transition of the resonator is"
   ]
  },
  {
   "cell_type": "code",
   "execution_count": 88,
   "metadata": {
    "ExecuteTime": {
     "end_time": "2019-05-01T13:14:32.494400Z",
     "start_time": "2019-05-01T13:14:32.489400Z"
    }
   },
   "outputs": [
    {
     "data": {
      "text/plain": [
       "5006408876.608672"
      ]
     },
     "execution_count": 88,
     "metadata": {},
     "output_type": "execute_result"
    }
   ],
   "source": [
    "ee[1]-ee[0]"
   ]
  },
  {
   "cell_type": "markdown",
   "metadata": {},
   "source": [
    "and of the transmon"
   ]
  },
  {
   "cell_type": "code",
   "execution_count": 89,
   "metadata": {
    "ExecuteTime": {
     "end_time": "2019-05-01T13:14:32.505400Z",
     "start_time": "2019-05-01T13:14:32.496400Z"
    }
   },
   "outputs": [
    {
     "data": {
      "text/plain": [
       "5393689685.854876"
      ]
     },
     "execution_count": 89,
     "metadata": {},
     "output_type": "execute_result"
    }
   ],
   "source": [
    "ee[2]-ee[0]"
   ]
  },
  {
   "cell_type": "markdown",
   "metadata": {},
   "source": [
    "Notice the difference, especially for the transmon, with the corresponding normal-mode frequency calculated above. This is a consequence of the zero-point fluctuations entering the junction and changing the effective transition frequency.\n",
    "\n",
    "Following first-order perturbation frequency, the shift in transition frequency can be estimated from the anharmonicity $A_1$ and cross-kerr coupling $\\chi_{0,1}$ and should be given by $-A_1-\\chi_{0,1}/2$. We see below that we get fairly close (7 MHz) from the value obtained from the hamiltonian diagonalization."
   ]
  },
  {
   "cell_type": "code",
   "execution_count": 90,
   "metadata": {
    "ExecuteTime": {
     "end_time": "2019-05-01T13:14:32.515400Z",
     "start_time": "2019-05-01T13:14:32.507400Z"
    }
   },
   "outputs": [
    {
     "data": {
      "text/plain": [
       "5408956281.581059"
      ]
     },
     "execution_count": 90,
     "metadata": {},
     "output_type": "execute_result"
    }
   ],
   "source": [
    "f,k,A,K = cir.f_k_A_chi()\n",
    "f[1]-A[1]-K[0,1]/2"
   ]
  },
  {
   "cell_type": "markdown",
   "metadata": {},
   "source": [
    "### Open-system dynamics"
   ]
  },
  {
   "cell_type": "markdown",
   "metadata": {
    "ExecuteTime": {
     "end_time": "2019-05-01T09:38:44.231400Z",
     "start_time": "2019-05-01T09:38:44.220400Z"
    }
   },
   "source": [
    "A more elaborate use of QuTiP would be to compute the dynamics (for example with qutip.mesolve). The Hamiltonian and collapse operators to use are"
   ]
  },
  {
   "cell_type": "code",
   "execution_count": 91,
   "metadata": {
    "ExecuteTime": {
     "end_time": "2019-05-01T13:14:32.529400Z",
     "start_time": "2019-05-01T13:14:32.517400Z"
    }
   },
   "outputs": [],
   "source": [
    "# H is the Hamiltonian\n",
    "H,a_m_list = cir.hamiltonian(modes = [0,1],taylor = 4,excitations = [5,5], return_ops = True)\n",
    "# !!! which should be in angular frequencies for time-dependant simulations\n",
    "H = 2.*np.pi*H\n",
    "\n",
    "# c_ops are the collapse operators \n",
    "# !!! which should be in angular frequencies for time-dependant simulations\n",
    "k = cir.loss_rates()\n",
    "c_ops = [np.sqrt(2*np.pi*k[0])*a_m_list[0],np.sqrt(2*np.pi*k[1])*a_m_list[1]]"
   ]
  },
  {
   "cell_type": "markdown",
   "metadata": {},
   "source": [
    "## Sweeping a parameter: the avoided crossing"
   ]
  },
  {
   "cell_type": "markdown",
   "metadata": {},
   "source": [
    "The most computationally expensive part of the \n",
    "analysis is performed upon initializing the Network. To avoid doing this, \n",
    "we have the option to enter a symbolic value for a component.\n",
    "    \n",
    "We will only provide a label ``L_J`` for the junction here, \n",
    "and its value should be passed\n",
    "as a keyword argument in subsequent function calls,\n",
    "for example ``L_J=1e-9``. "
   ]
  },
  {
   "cell_type": "code",
   "execution_count": 97,
   "metadata": {
    "ExecuteTime": {
     "end_time": "2019-05-01T13:17:37.318400Z",
     "start_time": "2019-05-01T13:17:37.265400Z"
    }
   },
   "outputs": [],
   "source": [
    "cir = Network([\n",
    "    C(0,1,100e-15),\n",
    "    J(0,1,'L_J'),\n",
    "    C(1,2,1e-15),\n",
    "    C(2,0,100e-15),\n",
    "    L(2,0,10e-9),\n",
    "    R(2,0,1e6)\n",
    "])"
   ]
  },
  {
   "cell_type": "code",
   "execution_count": 98,
   "metadata": {
    "ExecuteTime": {
     "end_time": "2019-05-01T13:17:37.630400Z",
     "start_time": "2019-05-01T13:17:37.625400Z"
    },
    "scrolled": true
   },
   "outputs": [
    {
     "data": {
      "image/png": "[encoded data removed]",
      "text/plain": [
       "<IPython.core.display.Image object>"
      ]
     },
     "execution_count": 98,
     "metadata": {},
     "output_type": "execute_result"
    }
   ],
   "source": [
    "from IPython.display import Image\n",
    "Image(\"graphics/transmon_LC_programmatically_1.png\")"
   ]
  },
  {
   "cell_type": "markdown",
   "metadata": {
    "ExecuteTime": {
     "end_time": "2019-05-01T13:14:32.622400Z",
     "start_time": "2019-05-01T13:14:32.617400Z"
    }
   },
   "source": [
    "Since the junction was created without a value, \n",
    "we now have to specify it as a keyword argument"
   ]
  },
  {
   "cell_type": "code",
   "execution_count": 99,
   "metadata": {
    "ExecuteTime": {
     "end_time": "2019-05-01T13:17:38.868400Z",
     "start_time": "2019-05-01T13:17:38.862400Z"
    }
   },
   "outputs": [],
   "source": [
    "import matplotlib.pyplot as plt"
   ]
  },
  {
   "cell_type": "code",
   "execution_count": 104,
   "metadata": {
    "ExecuteTime": {
     "end_time": "2019-05-01T15:02:27.349000Z",
     "start_time": "2019-05-01T15:02:27.082000Z"
    }
   },
   "outputs": [
    {
     "data": {
      "text/plain": [
       "Text(0, 0.5, 'Normal mode frequency (GHz)')"
      ]
     },
     "execution_count": 104,
     "metadata": {},
     "output_type": "execute_result"
    },
    {
     "data": {
      "image/png": "[encoded data removed]",
      "text/plain": [
       "<Figure size 432x288 with 1 Axes>"
      ]
     },
     "metadata": {
      "needs_background": "light"
     },
     "output_type": "display_data"
    }
   ],
   "source": [
    "L_J = np.linspace(8e-9,12e-9,1001)\n",
    "plt.plot(L_J*1e9,[cir.eigenfrequencies(L_J = x)/1e9 for x in L_J])\n",
    "plt.xlabel('L_J (nH)')\n",
    "plt.ylabel('Normal mode frequency (GHz)')"
   ]
  }
 ],
 "metadata": {
  "kernelspec": {
   "display_name": "Python 3",
   "language": "python",
   "name": "python3"
  },
  "language_info": {
   "codemirror_mode": {
    "name": "ipython",
    "version": 3
   },
   "file_extension": ".py",
   "mimetype": "text/x-python",
   "name": "python",
   "nbconvert_exporter": "python",
   "pygments_lexer": "ipython3",
   "version": "3.7.1"
  },
  "toc": {
   "base_numbering": 1,
   "nav_menu": {},
   "number_sections": true,
   "sideBar": true,
   "skip_h1_title": false,
   "title_cell": "Table of Contents",
   "title_sidebar": "Contents",
   "toc_cell": false,
   "toc_position": {},
   "toc_section_display": true,
   "toc_window_display": false
  }
 },
 "nbformat": 4,
 "nbformat_minor": 2
}
