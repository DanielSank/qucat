{
 "cells": [
  {
   "cell_type": "markdown",
   "metadata": {},
   "source": [
    "# Coupled Transmon / LC-oscillator (without the GUI)"
   ]
  },
  {
   "cell_type": "markdown",
   "metadata": {},
   "source": [
    "## Imports"
   ]
  },
  {
   "cell_type": "code",
   "execution_count": 3,
   "metadata": {
    "ExecuteTime": {
     "end_time": "2019-04-26T12:27:49.067470Z",
     "start_time": "2019-04-26T12:27:49.061470Z"
    }
   },
   "outputs": [],
   "source": [
    "from Qcircuits import Network,L,J,C,R\n",
    "import numpy as np"
   ]
  },
  {
   "cell_type": "markdown",
   "metadata": {},
   "source": [
    "## Building the Network"
   ]
  },
  {
   "cell_type": "code",
   "execution_count": 4,
   "metadata": {
    "ExecuteTime": {
     "end_time": "2019-04-26T12:27:49.673470Z",
     "start_time": "2019-04-26T12:27:49.550470Z"
    }
   },
   "outputs": [],
   "source": [
    "circuit = Network([\n",
    "    C(0,1,100e-15),\n",
    "    J(0,1,'L_J'),\n",
    "    C(1,2,1e-15),\n",
    "    C(2,0,100e-15),\n",
    "    L(2,0,10e-9),\n",
    "    R(2,0,1e6)\n",
    "])"
   ]
  },
  {
   "cell_type": "code",
   "execution_count": 6,
   "metadata": {
    "ExecuteTime": {
     "end_time": "2019-04-26T12:28:09.344470Z",
     "start_time": "2019-04-26T12:28:09.334470Z"
    }
   },
   "outputs": [
    {
     "name": "stdout",
     "output_type": "stream",
     "text": [
      "    mode |  freq.  |  diss.  |  anha.  |\n",
      "       0 | 5.0 GHz | 786 kHz |  583 Hz |\n",
      "       1 | 5.6 GHz | 1.9 kHz | 191 MHz |\n",
      "\n",
      "Kerr coefficients\n",
      "(diagonal = Kerr, off-diagonal = cross-Kerr)\n",
      "    mode |    0    |    1    |\n",
      "       0 |  583 Hz |         |\n",
      "       1 | 667 kHz | 191 MHz |\n",
      "\n"
     ]
    }
   ],
   "source": [
    "w,k,A,chi = circuit.f_k_A_chi(L_J = 8e-9, pretty_print=True)"
   ]
  },
  {
   "cell_type": "code",
   "execution_count": null,
   "metadata": {},
   "outputs": [],
   "source": []
  }
 ],
 "metadata": {
  "kernelspec": {
   "display_name": "Python 3",
   "language": "python",
   "name": "python3"
  },
  "language_info": {
   "codemirror_mode": {
    "name": "ipython",
    "version": 3
   },
   "file_extension": ".py",
   "mimetype": "text/x-python",
   "name": "python",
   "nbconvert_exporter": "python",
   "pygments_lexer": "ipython3",
   "version": "3.7.1"
  },
  "toc": {
   "base_numbering": 1,
   "nav_menu": {},
   "number_sections": true,
   "sideBar": true,
   "skip_h1_title": false,
   "title_cell": "Table of Contents",
   "title_sidebar": "Contents",
   "toc_cell": false,
   "toc_position": {},
   "toc_section_display": true,
   "toc_window_display": false
  }
 },
 "nbformat": 4,
 "nbformat_minor": 2
}
