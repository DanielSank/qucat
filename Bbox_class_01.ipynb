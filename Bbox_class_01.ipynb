{
 "cells": [
  {
   "cell_type": "code",
   "execution_count": 309,
   "metadata": {
    "collapsed": true
   },
   "outputs": [],
   "source": [
    "from lcapy import L,C,R\n",
    "import sympy as sp\n",
    "import numpy as np\n",
    "from scipy.constants import e,pi,h\n",
    "from sympy.core.mul import Mul,Pow,Add"
   ]
  },
  {
   "cell_type": "code",
   "execution_count": 310,
   "metadata": {},
   "outputs": [],
   "source": [
    "class Bbox(object):\n",
    "    def __init__(self, circuit, L_J = \"L_J\"):\n",
    "        self.circuit = circuit\n",
    "        self.L_J = L_J\n",
    "        cir = self.circuit\n",
    "        \n",
    "        w = sp.Symbol('w',real=True)\n",
    "        Yw = cir.Y.subs({sp.Symbol('s'):Mul(sp.I,w)})\n",
    "        dY = sp.diff(Yw,sp.Symbol('w'))\n",
    "\n",
    "        self.ws = []\n",
    "        self.ks = []\n",
    "        self.As = []\n",
    "        self.N_modes = 0\n",
    "        zeros = cir.Y.zeros()\n",
    "        for w in zeros:\n",
    "            w_num = complex(w.evalf(subs={i:1. for i in w.free_symbols}))\n",
    "            if np.imag(w_num)>0:\n",
    "                self.N_modes += 1\n",
    "                self.ws.append(sp.functions.im(w))\n",
    "                self.ks.append(-sp.functions.re(w))\n",
    "                self.As.append(2.*e**2/h*Mul(1/sp.Symbol(L_J),Mul(Pow(1/sp.functions.im(dY.subs({sp.Symbol('w'):sp.functions.im(w)})),2),Pow(1/sp.functions.im(w),2))))\n",
    "\n",
    "\n",
    "\n",
    "    \n",
    "    def fkA(self,circuit_parameters):\n",
    "        circuit_parameters['j'] = 1j\n",
    "        to_return = []\n",
    "        for param in [self.ws,self.ks,self.As]:\n",
    "            N_param = sp.utilities.lambdify([key for key in circuit_parameters],param,\"numpy\")\n",
    "            to_return.append(N_param(*[circuit_parameters[key] for key in circuit_parameters]))\n",
    "        return [np.array(to_return[0])/2./pi,np.array(to_return[1])/2./pi,to_return[2]]"
   ]
  },
  {
   "cell_type": "code",
   "execution_count": 311,
   "metadata": {},
   "outputs": [
    {
     "data": {
      "image/png": "[encoded data removed]"
     },
     "metadata": {
      "image/png": {
       "height": 160,
       "width": 350
      }
     },
     "output_type": "display_data"
    },
    {
     "name": "stdout",
     "output_type": "stream",
     "text": [
      "Wall time: 3.12 s\n"
     ]
    }
   ],
   "source": [
    "%%time\n",
    "circuit = L('L_J') | C('C') | (C('C_f')+R('R_50'))\n",
    "# circuit = L('L_J') | C('C') | (C('Cc')+(C('Cr')|L('Lr')|(C('C_f')+R('R_50'))))\n",
    "circuit.draw()"
   ]
  },
  {
   "cell_type": "code",
   "execution_count": 312,
   "metadata": {},
   "outputs": [
    {
     "name": "stdout",
     "output_type": "stream",
     "text": [
      "Wall time: 2.27 s\n"
     ]
    }
   ],
   "source": [
    "%%time\n",
    "b = Bbox(circuit)"
   ]
  },
  {
   "cell_type": "code",
   "execution_count": 313,
   "metadata": {},
   "outputs": [
    {
     "name": "stdout",
     "output_type": "stream",
     "text": [
      "Wall time: 3.69 s\n"
     ]
    },
    {
     "data": {
      "text/plain": [
       "[array([7.04750021e+09]), array([305.81622315]), [379808418.1779124]]"
      ]
     },
     "execution_count": 313,
     "metadata": {},
     "output_type": "execute_result"
    }
   ],
   "source": [
    "%%time\n",
    "b.fkA({'L_J':10e-9,'C':50e-15,'C_f':1e-15,'R_50':0.1})"
   ]
  }
 ],
 "metadata": {
  "kernelspec": {
   "display_name": "Python [default]",
   "language": "python",
   "name": "python2"
  },
  "language_info": {
   "codemirror_mode": {
    "name": "ipython",
    "version": 2
   },
   "file_extension": ".py",
   "mimetype": "text/x-python",
   "name": "python",
   "nbconvert_exporter": "python",
   "pygments_lexer": "ipython2",
   "version": "2.7.13"
  }
 },
 "nbformat": 4,
 "nbformat_minor": 2
}
