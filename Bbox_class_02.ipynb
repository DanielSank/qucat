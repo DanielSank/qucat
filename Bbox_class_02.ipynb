{
 "cells": [
  {
   "cell_type": "code",
   "execution_count": 169,
   "metadata": {
    "ExecuteTime": {
     "end_time": "2018-11-09T17:13:19.532000Z",
     "start_time": "2018-11-09T17:13:19.521000Z"
    },
    "collapsed": true
   },
   "outputs": [],
   "source": [
    "from lcapy import L,C,R\n",
    "import lcapy\n",
    "import sympy as sp\n",
    "import numpy as np\n",
    "from scipy.constants import e,pi,h\n",
    "from sympy.core.mul import Mul,Pow,Add\n",
    "from copy import deepcopy\n",
    "import matplotlib.pyplot as plt\n",
    "import math"
   ]
  },
  {
   "cell_type": "code",
   "execution_count": 170,
   "metadata": {
    "ExecuteTime": {
     "end_time": "2018-11-09T17:13:19.732000Z",
     "start_time": "2018-11-09T17:13:19.537000Z"
    },
    "code_folding": [
     0,
     13,
     34,
     61,
     83
    ],
    "collapsed": true
   },
   "outputs": [],
   "source": [
    "def admittance(circuit):\n",
    "    if type(circuit) == lcapy.oneport.Par:\n",
    "        return Add(admittance(circuit.args[0]),admittance(circuit.args[1]))\n",
    "    elif type(circuit) == lcapy.oneport.Ser:\n",
    "        return 1/Add(1/admittance(circuit.args[0]),1/admittance(circuit.args[1]))\n",
    "    elif type(circuit) == lcapy.oneport.L:\n",
    "        return -sp.I*Mul(1/sp.Symbol('w'),1/sp.Symbol(circuit.args[0],real=True))\n",
    "    elif type(circuit) == lcapy.oneport.C:\n",
    "        return sp.I*Mul(sp.Symbol('w'),sp.Symbol(circuit.args[0],real=True))\n",
    "    elif type(circuit) == lcapy.oneport.R:\n",
    "        return 1/sp.Symbol(circuit.args[0],real=True)\n",
    "\n",
    "class Bbox(object):\n",
    "    def __init__(self, circuit, L_J = \"L_J\"):\n",
    "        self.circuit = circuit\n",
    "        self.L_J = L_J\n",
    "        \n",
    "        Y = admittance(circuit)\n",
    "        self.all_circuit_elements = [str(x) for x in list(Y.free_symbols)]\n",
    "        self.all_circuit_elements.remove('w')\n",
    "\n",
    "        Y_numer = sp.numer(sp.together(Y))\n",
    "        Y_poly = sp.collect(sp.expand(Y_numer),sp.Symbol('w'))\n",
    "        self.Y_poly = Y_poly\n",
    "        Y_poly_order = sp.polys.polytools.degree(Y_poly,gen = sp.Symbol('w'))\n",
    "        Y_poly_coeffs = [Y_poly.coeff(sp.Symbol('w'),n) for n in range(Y_poly_order+1)[::-1]]\n",
    "        self.Y_poly_num = sp.utilities.lambdify([elt for elt in self.all_circuit_elements],Y_poly_coeffs,\"numpy\")\n",
    "        self.N_modes = int(math.ceil((Y_poly_order)/2))\n",
    "        self.dY = sp.diff(Y,sp.Symbol('w'))\n",
    "        self.dY_num = sp.utilities.lambdify([elt for elt in self.all_circuit_elements+[\"w\"]],self.dY,\"numpy\")\n",
    "    \n",
    "    def draw(self):\n",
    "        self.circuit.draw()\n",
    "        \n",
    "    def analytical_solution(self):\n",
    "        # Prints very ugly expressions, need to massage the sympy\n",
    "        facts = [sp.Q.positive(sp.Symbol(x)) for x in self.all_circuit_elements]\n",
    "        with sp.assuming(*facts):\n",
    "        \n",
    "            # Try and calculate analytical eigenfrequencies\n",
    "            w_analytical = sp.solve(self.Y_poly,sp.Symbol('w'))\n",
    "\n",
    "            # Check the number of solutions\n",
    "            if len(w_analytical)==0:\n",
    "                print \"No analytical solutions\"\n",
    "                return None\n",
    "\n",
    "            # Compute anharmonicities\n",
    "            ws = []\n",
    "            ks = []\n",
    "            As = []\n",
    "            for w in w_analytical:\n",
    "                w_num = complex(w.evalf(subs={i:1. for i in w.free_symbols}))\n",
    "                if np.real(w_num)>0:\n",
    "                    ws.append(sp.functions.im(w))\n",
    "                    ks.append(-sp.functions.re(w))\n",
    "                    As.append(2.*e**2/h*Mul(1/sp.Symbol(self.L_J),\\\n",
    "                            Mul(Pow(1/sp.functions.im(self.dY.subs({sp.Symbol('w'):sp.functions.im(w)})),2),\\\n",
    "                            Pow(1/sp.functions.im(w),2))))\n",
    "            return ws,ks,As\n",
    "    \n",
    "    def fkA(self,circuit_parameters):\n",
    "        args = [circuit_parameters[key] for key in self.all_circuit_elements]\n",
    "        ws_cpx = np.roots(self.Y_poly_num(*args))\n",
    "        positive_sols = np.argwhere(np.real(ws_cpx)>=0.)\n",
    "        ws_cpx=ws_cpx[positive_sols][:,0]\n",
    "        while True:\n",
    "            if len(ws_cpx)<self.N_modes:\n",
    "                ws_cpx=np.concatenate((ws_cpx,[0.]))\n",
    "            else:\n",
    "                break\n",
    "        \n",
    "        ws = np.real(ws_cpx)\n",
    "        increasing_frequencies = np.argsort(ws)\n",
    "        ws = ws[increasing_frequencies]\n",
    "        ks = np.imag(ws_cpx)[increasing_frequencies]\n",
    "        \n",
    "        \n",
    "        args.append(ws)\n",
    "        ImdY = np.imag(self.dY_num(*args))\n",
    "        As = 2.*e**2/h/circuit_parameters[self.L_J]/ws**2/ImdY**2\n",
    "        return np.concatenate(([ws/2./pi],[ks/2./pi],[As]))\n",
    "    \n",
    "    def normalmodes(self,circuit_parameters):\n",
    "        N_lists = 0\n",
    "        for key in circuit_parameters:\n",
    "            if type(circuit_parameters[key]) == np.ndarray or type(circuit_parameters[key])== list:\n",
    "                N_lists +=1\n",
    "                key_list = key\n",
    "        \n",
    "        if N_lists == 0:\n",
    "            return self.fkA(circuit_parameters)\n",
    "        elif N_lists == 1:\n",
    "            to_iterate = deepcopy(circuit_parameters[key_list])\n",
    "            circuit_parameters[key_list] = to_iterate[0]\n",
    "            ret = np.array([self.fkA(circuit_parameters)])\n",
    "            for key_value in to_iterate[1:]:\n",
    "                circuit_parameters[key_list] = key_value\n",
    "                ret = np.concatenate((ret,[self.fkA(circuit_parameters)]),axis = 0)\n",
    "            return np.transpose(ret,(2,1,0))\n",
    "        else:\n",
    "            \"Can only iterate on one variable\"\n"
   ]
  },
  {
   "cell_type": "code",
   "execution_count": 171,
   "metadata": {
    "ExecuteTime": {
     "end_time": "2018-11-09T17:13:23.225000Z",
     "start_time": "2018-11-09T17:13:19.734000Z"
    }
   },
   "outputs": [
    {
     "data": {
      "image/png": "[encoded data removed]"
     },
     "metadata": {
      "image/png": {
       "height": 80,
       "width": 200
      }
     },
     "output_type": "display_data"
    }
   ],
   "source": [
    "b = Bbox(L('L_J') | C('C'))\n",
    "b.draw()"
   ]
  },
  {
   "cell_type": "code",
   "execution_count": 172,
   "metadata": {
    "ExecuteTime": {
     "end_time": "2018-11-09T17:13:23.238000Z",
     "start_time": "2018-11-09T17:13:23.227000Z"
    }
   },
   "outputs": [
    {
     "data": {
      "text/plain": [
       "array([[5.03292121e+09],\n",
       "       [0.00000000e+00],\n",
       "       [1.93702293e+08]])"
      ]
     },
     "execution_count": 172,
     "metadata": {},
     "output_type": "execute_result"
    }
   ],
   "source": [
    "b.normalmodes({\n",
    "    'L_J':10e-9,\n",
    "    'C':100e-15\n",
    "})"
   ]
  },
  {
   "cell_type": "code",
   "execution_count": 173,
   "metadata": {
    "ExecuteTime": {
     "end_time": "2018-11-09T17:13:26.654000Z",
     "start_time": "2018-11-09T17:13:23.242000Z"
    }
   },
   "outputs": [
    {
     "data": {
      "image/png": "[encoded data removed]"
     },
     "metadata": {
      "image/png": {
       "height": 280,
       "width": 600
      }
     },
     "output_type": "display_data"
    }
   ],
   "source": [
    "b = Bbox(L('L_J') | C('C') | (C('Cc')+(C('Cr')|L('Lr')|(C('Cf')+R('R_50')))))\n",
    "b.draw()"
   ]
  },
  {
   "cell_type": "code",
   "execution_count": 174,
   "metadata": {
    "ExecuteTime": {
     "end_time": "2018-11-09T17:13:26.704000Z",
     "start_time": "2018-11-09T17:13:26.656000Z"
    }
   },
   "outputs": [
    {
     "name": "stderr",
     "output_type": "stream",
     "text": [
      "C:\\Anaconda2\\lib\\site-packages\\numpy\\__init__.py:1: RuntimeWarning: divide by zero encountered in true_divide\n",
      "  \"\"\"\n",
      "C:\\Anaconda2\\lib\\site-packages\\numpy\\__init__.py:1: RuntimeWarning: invalid value encountered in true_divide\n",
      "  \"\"\"\n",
      "C:\\Anaconda2\\lib\\site-packages\\ipykernel\\__main__.py:79: RuntimeWarning: divide by zero encountered in divide\n"
     ]
    }
   ],
   "source": [
    "flux = np.linspace(0.,0.2,103)\n",
    "L_J_list = 7e-9/np.absolute(np.cos(2.*pi*flux))\n",
    "to_plot =  np.array(b.normalmodes({\n",
    "    'L_J':L_J_list,\n",
    "    'C':100e-15,\n",
    "    'Cc':10e-15,\n",
    "    'Cf':1e-15,\n",
    "    'R_50':50.,\n",
    "    'Lr':10e-9,\n",
    "    'Cr':100e-15,\n",
    "    'R_J':1e6,\n",
    "    'R_r':1e5\n",
    "}))\n"
   ]
  },
  {
   "cell_type": "code",
   "execution_count": 175,
   "metadata": {
    "ExecuteTime": {
     "end_time": "2018-11-09T17:13:27.044000Z",
     "start_time": "2018-11-09T17:13:26.714000Z"
    }
   },
   "outputs": [
    {
     "data": {
      "image/png": "[encoded data removed]",
      "text/plain": [
       "<matplotlib.figure.Figure at 0x11c46588>"
      ]
     },
     "metadata": {},
     "output_type": "display_data"
    }
   ],
   "source": [
    "fig,axarr = plt.subplots(3,1,figsize=(3,6),sharex=True)\n",
    "for i,ax in enumerate(axarr):\n",
    "    for j in [1,2]:\n",
    "        axarr[i].plot(flux,to_plot[j,i])\n",
    "axarr[0].set_ylabel(\"Mode frequency\")\n",
    "axarr[1].set_ylabel(\"Mode dissipation\")\n",
    "axarr[2].set_ylabel(\"Mode anharmonicity\")\n",
    "axarr[2].set_xlabel(\"$\\phi/\\phi_0$\")\n",
    "plt.show()"
   ]
  }
 ],
 "metadata": {
  "kernelspec": {
   "display_name": "Python [default]",
   "language": "python",
   "name": "python2"
  },
  "language_info": {
   "codemirror_mode": {
    "name": "ipython",
    "version": 2
   },
   "file_extension": ".py",
   "mimetype": "text/x-python",
   "name": "python",
   "nbconvert_exporter": "python",
   "pygments_lexer": "ipython2",
   "version": "2.7.13"
  },
  "toc": {
   "base_numbering": 1,
   "nav_menu": {},
   "number_sections": true,
   "sideBar": true,
   "skip_h1_title": false,
   "title_cell": "Table of Contents",
   "title_sidebar": "Contents",
   "toc_cell": false,
   "toc_position": {},
   "toc_section_display": true,
   "toc_window_display": false
  }
 },
 "nbformat": 4,
 "nbformat_minor": 2
}
