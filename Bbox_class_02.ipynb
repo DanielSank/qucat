{
 "cells": [
  {
   "cell_type": "code",
   "execution_count": 594,
   "metadata": {
    "collapsed": true
   },
   "outputs": [],
   "source": [
    "from lcapy import L,C,R\n",
    "import lcapy\n",
    "import sympy as sp\n",
    "import numpy as np\n",
    "from scipy.constants import e,pi,h\n",
    "from sympy.core.mul import Mul,Pow,Add\n",
    "from copy import deepcopy\n",
    "import matplotlib.pyplot as plt\n",
    "import math"
   ]
  },
  {
   "cell_type": "code",
   "execution_count": 595,
   "metadata": {
    "collapsed": true
   },
   "outputs": [],
   "source": [
    "def admittance(circuit):\n",
    "    if type(circuit) == lcapy.oneport.Par:\n",
    "        return Add(admittance(circuit.args[0]),admittance(circuit.args[1]))\n",
    "    elif type(circuit) == lcapy.oneport.Ser:\n",
    "        return 1/Add(1/admittance(circuit.args[0]),1/admittance(circuit.args[1]))\n",
    "    elif type(circuit) == lcapy.oneport.L:\n",
    "        return -sp.I*Mul(1/sp.Symbol('w'),1/sp.Symbol(circuit.args[0],real=True))\n",
    "    elif type(circuit) == lcapy.oneport.C:\n",
    "        return sp.I*Mul(sp.Symbol('w'),sp.Symbol(circuit.args[0],real=True))\n",
    "    elif type(circuit) == lcapy.oneport.R:\n",
    "        return 1/sp.Symbol(circuit.args[0],real=True)"
   ]
  },
  {
   "cell_type": "code",
   "execution_count": 624,
   "metadata": {},
   "outputs": [
    {
     "name": "stdout",
     "output_type": "stream",
     "text": [
      "3\n",
      "[[[0.00000000e+00 0.00000000e+00 0.00000000e+00 2.48679599e-03]\n",
      "  [0.00000000e+00 0.00000000e+00 3.21227720e+12 3.21227720e+12]\n",
      "  [           nan            nan            nan 1.32413677e-16]]\n",
      "\n",
      " [[4.58462797e+09 4.66842525e+09 4.71234083e+09 4.73567858e+09]\n",
      "  [1.43823076e+04 2.25997463e+04 2.73585247e+04 2.95867001e+04]\n",
      "  [3.62699608e+07 8.12485375e+06 1.50691477e+06 3.17006203e+05]]\n",
      "\n",
      " [[5.02069797e+09 5.19728499e+09 5.46118021e+09 5.80947595e+09]\n",
      "  [1.87178994e+04 1.05306063e+04 5.80951009e+03 3.62978309e+03]\n",
      "  [5.31238600e+07 1.09440119e+08 1.46046769e+08 1.62571514e+08]]]\n",
      "(3L, 3L, 4L)\n"
     ]
    },
    {
     "name": "stderr",
     "output_type": "stream",
     "text": [
      "C:\\Anaconda2\\lib\\site-packages\\numpy\\__init__.py:1: RuntimeWarning: divide by zero encountered in true_divide\n",
      "  \"\"\"\n",
      "C:\\Anaconda2\\lib\\site-packages\\numpy\\__init__.py:1: RuntimeWarning: invalid value encountered in true_divide\n",
      "  \"\"\"\n",
      "C:\\Anaconda2\\lib\\site-packages\\ipykernel\\__main__.py:67: RuntimeWarning: divide by zero encountered in divide\n"
     ]
    }
   ],
   "source": [
    "class Bbox(object):\n",
    "    def __init__(self, circuit, L_J = \"L_J\"):\n",
    "        self.circuit = circuit\n",
    "        self.L_J = L_J\n",
    "        \n",
    "        Y = admittance(circuit)\n",
    "        self.all_circuit_elements = [str(x) for x in list(Y.free_symbols)]\n",
    "        self.all_circuit_elements.remove('w')\n",
    "\n",
    "        Y_numer = sp.numer(sp.together(Y))\n",
    "        Y_poly = sp.collect(sp.expand(Y_numer),sp.Symbol('w'))\n",
    "        self.Y_poly = Y_poly\n",
    "        Y_poly_order = sp.polys.polytools.degree(Y_poly,gen = sp.Symbol('w'))\n",
    "        Y_poly_coeffs = [Y_poly.coeff(sp.Symbol('w'),n) for n in range(Y_poly_order+1)[::-1]]\n",
    "        self.Y_poly_num = sp.utilities.lambdify([elt for elt in self.all_circuit_elements],Y_poly_coeffs,\"numpy\")\n",
    "        self.N_modes = int(math.ceil((Y_poly_order)/2))\n",
    "        self.dY = sp.diff(Y,sp.Symbol('w'))\n",
    "        self.dY_num = sp.utilities.lambdify([elt for elt in self.all_circuit_elements+[\"w\"]],self.dY,\"numpy\")\n",
    "    \n",
    "    def draw(self):\n",
    "        self.circuit.draw()\n",
    "        \n",
    "    def analytical_solution(self):\n",
    "        # Prints very ugly expressions, need to massage the sympy\n",
    "        facts = [sp.Q.positive(sp.Symbol(x)) for x in self.all_circuit_elements]\n",
    "        with sp.assuming(*facts):\n",
    "        \n",
    "            # Try and calculate analytical eigenfrequencies\n",
    "            w_analytical = sp.solve(self.Y_poly,sp.Symbol('w'))\n",
    "\n",
    "            # Check the number of solutions\n",
    "            if len(w_analytical)==0:\n",
    "                print \"No analytical solutions\"\n",
    "                return None\n",
    "\n",
    "            # Compute anharmonicities\n",
    "            ws = []\n",
    "            ks = []\n",
    "            As = []\n",
    "            for w in w_analytical:\n",
    "                w_num = complex(w.evalf(subs={i:1. for i in w.free_symbols}))\n",
    "                if np.real(w_num)>0:\n",
    "                    ws.append(sp.functions.im(w))\n",
    "                    ks.append(-sp.functions.re(w))\n",
    "                    As.append(2.*e**2/h*Mul(1/sp.Symbol(self.L_J),\\\n",
    "                            Mul(Pow(1/sp.functions.im(self.dY.subs({sp.Symbol('w'):sp.functions.im(w)})),2),\\\n",
    "                            Pow(1/sp.functions.im(w),2))))\n",
    "            return ws,ks,As\n",
    "    \n",
    "    def fkA(self,circuit_parameters):\n",
    "        args = [circuit_parameters[key] for key in self.all_circuit_elements]\n",
    "        ws_cpx = np.roots(self.Y_poly_num(*args))\n",
    "        positive_sols = np.argwhere(np.real(ws_cpx)>=0.)\n",
    "        ws_cpx=ws_cpx[positive_sols][:,0]\n",
    "        while True:\n",
    "            if len(ws_cpx)<self.N_modes:\n",
    "                ws_cpx=np.concatenate((ws_cpx,[0.]))\n",
    "            else:\n",
    "                break\n",
    "        \n",
    "        ws = np.real(ws_cpx)\n",
    "        increasing_frequencies = np.argsort(ws)\n",
    "        ws = ws[increasing_frequencies]\n",
    "        ks = np.imag(ws_cpx)[increasing_frequencies]\n",
    "        \n",
    "        \n",
    "        args.append(ws)\n",
    "        ImdY = np.imag(self.dY_num(*args))\n",
    "        As = 2.*e**2/h/circuit_parameters[self.L_J]/ws**2/ImdY**2\n",
    "        return np.concatenate(([ws/2./pi],[ks/2./pi],[As]))\n",
    "    \n",
    "    def normalmodes(self,circuit_parameters):\n",
    "        N_lists = 0\n",
    "        for key in circuit_parameters:\n",
    "            if type(circuit_parameters[key]) == np.ndarray or type(circuit_parameters[key])== list:\n",
    "                N_lists +=1\n",
    "                key_list = key\n",
    "        \n",
    "        if N_lists == 0:\n",
    "            return self.fkA(circuit_parameters)\n",
    "        elif N_lists == 1:\n",
    "            to_iterate = deepcopy(circuit_parameters[key_list])\n",
    "            circuit_parameters[key_list] = to_iterate[0]\n",
    "            ret = np.array([self.fkA(circuit_parameters)])\n",
    "            for key_value in to_iterate[1:]:\n",
    "                circuit_parameters[key_list] = key_value\n",
    "#                 print key_value\n",
    "#                 print ret.shape\n",
    "#                 print self.fkA(circuit_parameters)\n",
    "                ret = np.concatenate((ret,[self.fkA(circuit_parameters)]),axis = 0)\n",
    "            return np.transpose(ret,(2,1,0))\n",
    "        else:\n",
    "            \"Can only iterate on one variable\"\n",
    "    \n",
    "        \n",
    "b = Bbox(L('L_J') | C('C') | (C('Cc')+(C('Cr')|L('Lr')|(C('Cf')+R('R_50')))))\n",
    "print b.N_modes\n",
    "ret = np.array(b.normalmodes({\n",
    "    'L_J':[10e-9,9e-9,8e-9,7e-9],\n",
    "    'C':100e-15,\n",
    "    'Cc':10e-15,\n",
    "    'Cf':1e-15,\n",
    "    'R_50':50.,\n",
    "    'Lr':10e-9,\n",
    "    'Cr':100e-15,\n",
    "}))\n",
    "print ret\n",
    "print ret.shape"
   ]
  },
  {
   "cell_type": "code",
   "execution_count": 625,
   "metadata": {},
   "outputs": [],
   "source": [
    "b = Bbox(L('L_J') | C('C'))\n",
    "# b.draw()"
   ]
  },
  {
   "cell_type": "code",
   "execution_count": 626,
   "metadata": {},
   "outputs": [
    {
     "data": {
      "text/plain": [
       "array([[5.03292121e+09],\n",
       "       [0.00000000e+00],\n",
       "       [1.93702293e+08]])"
      ]
     },
     "execution_count": 626,
     "metadata": {},
     "output_type": "execute_result"
    }
   ],
   "source": [
    "b.normalmodes({\n",
    "    'L_J':10e-9,\n",
    "    'C':100e-15\n",
    "})"
   ]
  },
  {
   "cell_type": "code",
   "execution_count": 627,
   "metadata": {},
   "outputs": [],
   "source": [
    "b = Bbox(L('L_J') | C('C') | (C('Cc')+(C('Cr')|L('Lr')|(C('Cf')+R('R_50')))))\n",
    "# b.draw()"
   ]
  },
  {
   "cell_type": "code",
   "execution_count": 628,
   "metadata": {},
   "outputs": [
    {
     "name": "stderr",
     "output_type": "stream",
     "text": [
      "C:\\Anaconda2\\lib\\site-packages\\numpy\\__init__.py:1: RuntimeWarning: divide by zero encountered in true_divide\n",
      "  \"\"\"\n",
      "C:\\Anaconda2\\lib\\site-packages\\numpy\\__init__.py:1: RuntimeWarning: invalid value encountered in true_divide\n",
      "  \"\"\"\n",
      "C:\\Anaconda2\\lib\\site-packages\\ipykernel\\__main__.py:67: RuntimeWarning: divide by zero encountered in divide\n"
     ]
    }
   ],
   "source": [
    "to_plot =  np.array(b.normalmodes({\n",
    "    'L_J':np.linspace(12.e-9,8e-9,101),\n",
    "    'C':100e-15,\n",
    "    'Cc':10e-15,\n",
    "    'Cf':1e-15,\n",
    "    'R_50':50.,\n",
    "    'Lr':10e-9,\n",
    "    'Cr':100e-15,\n",
    "}))\n"
   ]
  },
  {
   "cell_type": "code",
   "execution_count": 629,
   "metadata": {},
   "outputs": [
    {
     "data": {
      "image/png": "[encoded data removed]",
      "text/plain": [
       "<matplotlib.figure.Figure at 0x16bb52e8>"
      ]
     },
     "metadata": {},
     "output_type": "display_data"
    }
   ],
   "source": [
    "plt.plot(to_plot[1,0,:])\n",
    "plt.plot(to_plot[2,0,:])\n",
    "plt.show()"
   ]
  },
  {
   "cell_type": "code",
   "execution_count": 632,
   "metadata": {},
   "outputs": [
    {
     "data": {
      "image/png": "[encoded data removed]",
      "text/plain": [
       "<matplotlib.figure.Figure at 0x175d9b00>"
      ]
     },
     "metadata": {},
     "output_type": "display_data"
    }
   ],
   "source": [
    "plt.plot(to_plot[1,1,:])\n",
    "plt.plot(to_plot[2,1,:])\n",
    "plt.show()"
   ]
  },
  {
   "cell_type": "code",
   "execution_count": null,
   "metadata": {
    "collapsed": true
   },
   "outputs": [],
   "source": []
  },
  {
   "cell_type": "code",
   "execution_count": null,
   "metadata": {
    "collapsed": true
   },
   "outputs": [],
   "source": []
  }
 ],
 "metadata": {
  "kernelspec": {
   "display_name": "Python [default]",
   "language": "python",
   "name": "python2"
  },
  "language_info": {
   "codemirror_mode": {
    "name": "ipython",
    "version": 2
   },
   "file_extension": ".py",
   "mimetype": "text/x-python",
   "name": "python",
   "nbconvert_exporter": "python",
   "pygments_lexer": "ipython2",
   "version": "2.7.13"
  }
 },
 "nbformat": 4,
 "nbformat_minor": 2
}
