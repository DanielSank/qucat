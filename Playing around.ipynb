{
 "cells": [
  {
   "cell_type": "code",
   "execution_count": 180,
   "metadata": {
    "collapsed": true
   },
   "outputs": [],
   "source": [
    "from lcapy import L,C,R"
   ]
  },
  {
   "cell_type": "code",
   "execution_count": 181,
   "metadata": {
    "collapsed": true
   },
   "outputs": [],
   "source": [
    "cir = L('L') | (C('C')+L('L_p')) | R('R')"
   ]
  },
  {
   "cell_type": "code",
   "execution_count": 182,
   "metadata": {},
   "outputs": [
    {
     "data": {
      "image/png": "[encoded data removed]",
      "text/latex": [
       "$$\\left\\{C, L, L_{p}, R, s\\right\\}$$"
      ],
      "text/plain": [
       "set([C, L, L_p, R, s])"
      ]
     },
     "execution_count": 182,
     "metadata": {},
     "output_type": "execute_result"
    }
   ],
   "source": [
    "cir.Z.free_symbols"
   ]
  },
  {
   "cell_type": "code",
   "execution_count": 4,
   "metadata": {},
   "outputs": [
    {
     "data": {
      "image/png": "[encoded data removed]"
     },
     "metadata": {
      "image/png": {
       "height": 160,
       "width": 450
      }
     },
     "output_type": "display_data"
    }
   ],
   "source": [
    "cir.draw()"
   ]
  },
  {
   "cell_type": "code",
   "execution_count": 120,
   "metadata": {},
   "outputs": [
    {
     "data": {
      "image/png": "[encoded data removed]"
     },
     "metadata": {
      "image/png": {
       "height": 80,
       "width": 200
      }
     },
     "output_type": "display_data"
    }
   ],
   "source": [
    "cir = L('L') | C('C') \n",
    "cir.draw()"
   ]
  },
  {
   "cell_type": "code",
   "execution_count": 153,
   "metadata": {},
   "outputs": [
    {
     "data": {
      "text/latex": [
       "$\\frac{C}{s} \\left(s^{2} + \\frac{1}{C L}\\right)$"
      ],
      "text/plain": [
       "  ⎛ 2    1 ⎞\n",
       "C⋅⎜s  + ───⎟\n",
       "  ⎝     C⋅L⎠\n",
       "────────────\n",
       "     s      "
      ]
     },
     "execution_count": 153,
     "metadata": {},
     "output_type": "execute_result"
    }
   ],
   "source": [
    "cir.Y"
   ]
  },
  {
   "cell_type": "code",
   "execution_count": 122,
   "metadata": {},
   "outputs": [
    {
     "data": {
      "text/plain": [
       "lcapy.core.Zs"
      ]
     },
     "execution_count": 122,
     "metadata": {},
     "output_type": "execute_result"
    }
   ],
   "source": [
    "type(cir.Z)"
   ]
  },
  {
   "cell_type": "code",
   "execution_count": 123,
   "metadata": {},
   "outputs": [
    {
     "data": {
      "text/plain": [
       "sympy.core.mul.Mul"
      ]
     },
     "execution_count": 123,
     "metadata": {},
     "output_type": "execute_result"
    }
   ],
   "source": [
    "type(cir.Z.expr)"
   ]
  },
  {
   "cell_type": "code",
   "execution_count": 124,
   "metadata": {},
   "outputs": [
    {
     "data": {
      "image/png": "[encoded data removed]",
      "text/latex": [
       "$$\\frac{s}{C \\left(s^{2} + \\frac{1}{C L}\\right)}$$"
      ],
      "text/plain": [
       "     s      \n",
       "────────────\n",
       "  ⎛ 2    1 ⎞\n",
       "C⋅⎜s  + ───⎟\n",
       "  ⎝     C⋅L⎠"
      ]
     },
     "execution_count": 124,
     "metadata": {},
     "output_type": "execute_result"
    }
   ],
   "source": [
    "cir.Z.expr"
   ]
  },
  {
   "cell_type": "code",
   "execution_count": 125,
   "metadata": {},
   "outputs": [
    {
     "data": {
      "image/png": "[encoded data removed]",
      "text/latex": [
       "$$\\left\\{C, L, s\\right\\}$$"
      ],
      "text/plain": [
       "set([C, L, s])"
      ]
     },
     "execution_count": 125,
     "metadata": {},
     "output_type": "execute_result"
    }
   ],
   "source": [
    "all_circuit_elements = cir.Z.free_symbols\n",
    "all_circuit_elements"
   ]
  },
  {
   "cell_type": "code",
   "execution_count": 126,
   "metadata": {},
   "outputs": [
    {
     "name": "stdout",
     "output_type": "stream",
     "text": [
      "2\n"
     ]
    },
    {
     "data": {
      "image/png": "[encoded data removed]",
      "text/latex": [
       "$$\\left [ - \\sqrt{- \\frac{1}{C L}}, \\quad \\sqrt{- \\frac{1}{C L}}\\right ]$$"
      ],
      "text/plain": [
       "⎡     _____      _____⎤\n",
       "⎢    ╱ -1       ╱ -1  ⎥\n",
       "⎢-  ╱  ─── ,   ╱  ─── ⎥\n",
       "⎣ ╲╱   C⋅L   ╲╱   C⋅L ⎦"
      ]
     },
     "execution_count": 126,
     "metadata": {},
     "output_type": "execute_result"
    }
   ],
   "source": [
    "from sympy import solve\n",
    "from sympy import Symbol\n",
    "ws = solve(cir.Y,Symbol('s'))\n",
    "print len(ws)\n",
    "ws"
   ]
  },
  {
   "cell_type": "code",
   "execution_count": null,
   "metadata": {
    "collapsed": true
   },
   "outputs": [],
   "source": []
  },
  {
   "cell_type": "code",
   "execution_count": 127,
   "metadata": {},
   "outputs": [
    {
     "data": {
      "image/png": "[encoded data removed]",
      "text/latex": [
       "$$\\left \\{ C : 1.0, \\quad L : 1.0, \\quad s : 1.0\\right \\}$$"
      ],
      "text/plain": [
       "{C: 1.0, L: 1.0, s: 1.0}"
      ]
     },
     "execution_count": 127,
     "metadata": {},
     "output_type": "execute_result"
    }
   ],
   "source": [
    "{x:1. for x in all_circuit_elements}"
   ]
  },
  {
   "cell_type": "code",
   "execution_count": 128,
   "metadata": {},
   "outputs": [
    {
     "name": "stdout",
     "output_type": "stream",
     "text": [
      "-1j\n",
      "1j\n"
     ]
    }
   ],
   "source": [
    "for w in ws:\n",
    "    print complex(w.evalf(subs={i:1. for i in w.free_symbols}))"
   ]
  },
  {
   "cell_type": "code",
   "execution_count": 129,
   "metadata": {},
   "outputs": [
    {
     "name": "stdout",
     "output_type": "stream",
     "text": [
      "-(re(1/(C*L))**2 + im(1/(C*L))**2)**(1/4)*sin(atan2(-im(1/(C*L)), -re(1/(C*L)))/2)\n",
      "(re(1/(C*L))**2 + im(1/(C*L))**2)**(1/4)*sin(atan2(-im(1/(C*L)), -re(1/(C*L)))/2)\n"
     ]
    }
   ],
   "source": [
    "from sympy.functions import re,im\n",
    "from sympy import Q\n",
    "import sympy as sp\n",
    "\n",
    "for w in ws:\n",
    "#     print sp.refine(im(w),assumptions = Q.real(Symbol('C')) & Q.real(Symbol('L')) & Q.positive(Symbol('C')) & Q.positive(Symbol('L')))\n",
    "    print im(w)"
   ]
  },
  {
   "cell_type": "code",
   "execution_count": 130,
   "metadata": {},
   "outputs": [
    {
     "name": "stdout",
     "output_type": "stream",
     "text": [
      "0\n",
      "-1/(sqrt(C)*sqrt(L))\n",
      "0\n",
      "1/(sqrt(C)*sqrt(L))\n"
     ]
    }
   ],
   "source": [
    "import numpy as np\n",
    "wps = []\n",
    "ks = []\n",
    "for w in cir.Y.zeros():\n",
    "    w_num = complex(w.evalf(subs={i:1. for i in w.free_symbols}))\n",
    "    print re(w)\n",
    "    print im(w)\n",
    "    if np.imag(w_num)>0:\n",
    "        wps.append(im(w))\n",
    "        ks.append(im(w))"
   ]
  },
  {
   "cell_type": "code",
   "execution_count": 131,
   "metadata": {},
   "outputs": [
    {
     "name": "stdout",
     "output_type": "stream",
     "text": [
      "[1/(sqrt(C)*sqrt(L))]\n"
     ]
    }
   ],
   "source": [
    "print wps"
   ]
  },
  {
   "cell_type": "code",
   "execution_count": 132,
   "metadata": {},
   "outputs": [
    {
     "data": {
      "image/png": "[encoded data removed]",
      "text/latex": [
       "$$\\left \\{ - \\frac{i}{\\sqrt{C} \\sqrt{L}} : 1, \\quad \\frac{i}{\\sqrt{C} \\sqrt{L}} : 1\\right \\}$$"
      ],
      "text/plain": [
       "⎧ -j         j     ⎫\n",
       "⎨─────: 1, ─────: 1⎬\n",
       "⎩√C⋅√L     √C⋅√L   ⎭"
      ]
     },
     "execution_count": 132,
     "metadata": {},
     "output_type": "execute_result"
    }
   ],
   "source": [
    "zs = cir.Y.zeros()\n",
    "zs"
   ]
  },
  {
   "cell_type": "code",
   "execution_count": 175,
   "metadata": {
    "collapsed": true
   },
   "outputs": [],
   "source": [
    "# w=Symbol('w',real=True)\n",
    "# Yw = cir.Y.subs({Symbol('s'):Mul(sp.I,w)})\n",
    "# dY = sp.diff(Yw,Symbol('w'))\n",
    "# print dY\n",
    "\n",
    "dY = sp.diff(cir.Y,Symbol('s'))"
   ]
  },
  {
   "cell_type": "code",
   "execution_count": 134,
   "metadata": {
    "collapsed": true
   },
   "outputs": [],
   "source": [
    "from sympy.utilities import lambdify\n",
    "from sympy import I\n",
    "from sympy.core.mul import Mul,Pow,Add\n",
    "import numpy as np\n",
    "from scipy.constants import e,h,pi"
   ]
  },
  {
   "cell_type": "code",
   "execution_count": 135,
   "metadata": {},
   "outputs": [
    {
     "data": {
      "text/plain": [
       "[array([-0.-0.5j, -0.-0.5j, -0.-0.5j]), array([0.+0.5j, 0.+0.5j, 0.+0.5j])]"
      ]
     },
     "execution_count": 135,
     "metadata": {},
     "output_type": "execute_result"
    }
   ],
   "source": [
    "N_ws = lambdify( ['L','C'], ws, \"numpy\" )\n",
    "N_ws(np.ones(3)*(2.+0j),(2.+0j)) # NEEDS TO BE COMPLEX!!"
   ]
  },
  {
   "cell_type": "code",
   "execution_count": 176,
   "metadata": {},
   "outputs": [
    {
     "name": "stdout",
     "output_type": "stream",
     "text": [
      "1/(sqrt(C)*sqrt(L))\n"
     ]
    }
   ],
   "source": [
    "dY\n",
    "\n",
    "As = []\n",
    "for w in wps:\n",
    "    print w\n",
    "    As.append(Mul(1/Symbol('L'),Mul(Pow(1/re(dY.subs({Symbol('s'):Mul(sp.I,w)})),2),Pow(1/w,2))))\n",
    "#     print dY.subs({Symbol('s'):Mul(sp.I,w)})"
   ]
  },
  {
   "cell_type": "code",
   "execution_count": 177,
   "metadata": {},
   "outputs": [
    {
     "data": {
      "image/png": "[encoded data removed]",
      "text/latex": [
       "$$\\frac{C L}{L \\left(C L \\Re{C} \\Re{\\left(\\frac{1}{C L}\\right)} - C L \\Im{C} \\Im{\\left(\\frac{1}{C L}\\right)} + \\Re{C}\\right)^{2}}$$"
      ],
      "text/plain": [
       "                       C⋅L                        \n",
       "──────────────────────────────────────────────────\n",
       "                                                 2\n",
       "  ⎛            ⎛ 1 ⎞               ⎛ 1 ⎞        ⎞ \n",
       "L⋅⎜C⋅L⋅re(C)⋅re⎜───⎟ - C⋅L⋅im(C)⋅im⎜───⎟ + re(C)⎟ \n",
       "  ⎝            ⎝C⋅L⎠               ⎝C⋅L⎠        ⎠ "
      ]
     },
     "execution_count": 177,
     "metadata": {},
     "output_type": "execute_result"
    }
   ],
   "source": [
    "sp.simplify(As[0])"
   ]
  },
  {
   "cell_type": "code",
   "execution_count": 138,
   "metadata": {},
   "outputs": [
    {
     "data": {
      "text/plain": [
       "array([1., 1., 1., 1.])"
      ]
     },
     "execution_count": 138,
     "metadata": {},
     "output_type": "execute_result"
    }
   ],
   "source": [
    "np.concatenate([np.ones(3),[1]])"
   ]
  },
  {
   "cell_type": "code",
   "execution_count": 139,
   "metadata": {},
   "outputs": [
    {
     "data": {
      "image/png": "[encoded data removed]",
      "text/latex": [
       "$$\\Im{u}$$"
      ],
      "text/plain": [
       "im(u)"
      ]
     },
     "execution_count": 139,
     "metadata": {},
     "output_type": "execute_result"
    }
   ],
   "source": [
    "u,v  = Symbol('u'),Symbol('v')\n",
    "sp.refine(im(u),)"
   ]
  },
  {
   "cell_type": "code",
   "execution_count": 178,
   "metadata": {},
   "outputs": [
    {
     "data": {
      "text/plain": [
       "array([0.125+0.j, 0.125+0.j, 0.125+0.j])"
      ]
     },
     "execution_count": 178,
     "metadata": {},
     "output_type": "execute_result"
    }
   ],
   "source": [
    "N_As = lambdify( ['L','C'], As[0], \"numpy\" )\n",
    "N_As(np.ones(3)*(2.+0j),(2.+0j)) # NEEDS TO BE COMPLEX!!"
   ]
  },
  {
   "cell_type": "code",
   "execution_count": 187,
   "metadata": {},
   "outputs": [
    {
     "ename": "SyntaxError",
     "evalue": "invalid syntax (<ipython-input-187-7b4cbaf7e173>, line 2)",
     "output_type": "error",
     "traceback": [
      "\u001b[1;36m  File \u001b[1;32m\"<ipython-input-187-7b4cbaf7e173>\"\u001b[1;36m, line \u001b[1;32m2\u001b[0m\n\u001b[1;33m    **x\u001b[0m\n\u001b[1;37m     ^\u001b[0m\n\u001b[1;31mSyntaxError\u001b[0m\u001b[1;31m:\u001b[0m invalid syntax\n"
     ]
    }
   ],
   "source": [
    "x = [0,1]\n",
    "**x"
   ]
  }
 ],
 "metadata": {
  "kernelspec": {
   "display_name": "Python [default]",
   "language": "python",
   "name": "python2"
  },
  "language_info": {
   "codemirror_mode": {
    "name": "ipython",
    "version": 2
   },
   "file_extension": ".py",
   "mimetype": "text/x-python",
   "name": "python",
   "nbconvert_exporter": "python",
   "pygments_lexer": "ipython2",
   "version": "2.7.13"
  }
 },
 "nbformat": 4,
 "nbformat_minor": 2
}
