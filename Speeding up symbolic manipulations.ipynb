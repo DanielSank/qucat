{
 "cells": [
  {
   "cell_type": "code",
   "execution_count": 35,
   "metadata": {
    "collapsed": true
   },
   "outputs": [],
   "source": [
    "from lcapy import L,C,R\n",
    "import lcapy\n",
    "import sympy as sp\n",
    "import numpy as np\n",
    "from scipy.constants import e,pi,h\n",
    "from sympy.core.mul import Mul,Pow,Add"
   ]
  },
  {
   "cell_type": "code",
   "execution_count": 2,
   "metadata": {
    "collapsed": true
   },
   "outputs": [],
   "source": [
    "class Bbox(object):\n",
    "    def __init__(self, circuit, L_J = \"L_J\"):\n",
    "        self.circuit = circuit\n",
    "        self.L_J = L_J\n",
    "        cir = self.circuit\n",
    "        \n",
    "        w = sp.Symbol('w',real=True)\n",
    "        Yw = cir.Y.subs({sp.Symbol('s'):Mul(sp.I,w)})\n",
    "        dY = sp.diff(Yw,sp.Symbol('w'))\n",
    "\n",
    "        self.ws = []\n",
    "        self.ks = []\n",
    "        self.As = []\n",
    "        self.N_modes = 0\n",
    "        zeros = cir.Y.zeros()\n",
    "        for w in zeros:\n",
    "            w_num = complex(w.evalf(subs={i:1. for i in w.free_symbols}))\n",
    "            if np.imag(w_num)>0:\n",
    "                self.N_modes += 1\n",
    "                self.ws.append(sp.functions.im(w))\n",
    "                self.ks.append(-sp.functions.re(w))\n",
    "                self.As.append(2.*e**2/h*Mul(1/sp.Symbol(L_J),Mul(Pow(1/sp.functions.im(dY.subs({sp.Symbol('w'):sp.functions.im(w)})),2),Pow(1/sp.functions.im(w),2))))\n",
    "\n",
    "\n",
    "\n",
    "    \n",
    "    def fkA(self,circuit_parameters):\n",
    "        circuit_parameters['j'] = 1j\n",
    "        to_return = []\n",
    "        for param in [self.ws,self.ks,self.As]:\n",
    "            N_param = sp.utilities.lambdify([key for key in circuit_parameters],param,\"numpy\")\n",
    "            to_return.append(N_param(*[circuit_parameters[key] for key in circuit_parameters]))\n",
    "        return [np.array(to_return[0])/2./pi,np.array(to_return[1])/2./pi,to_return[2]]"
   ]
  },
  {
   "cell_type": "code",
   "execution_count": 116,
   "metadata": {},
   "outputs": [
    {
     "data": {
      "image/png": "[encoded data removed]"
     },
     "metadata": {
      "image/png": {
       "height": 600,
       "width": 800
      }
     },
     "output_type": "display_data"
    },
    {
     "name": "stdout",
     "output_type": "stream",
     "text": [
      "Wall time: 3.57 s\n"
     ]
    }
   ],
   "source": [
    "%%time\n",
    "circuit = L('L_J') | C('C') | (C('Cc')+(C('Cr')|L('Lr')|(C('C_f')+R('R_50'))))|C('C_1')|L('L_1')\n",
    "# circuit = L('L') | C('C')\n",
    "drawing = circuit.draw()"
   ]
  },
  {
   "cell_type": "code",
   "execution_count": 94,
   "metadata": {
    "collapsed": true
   },
   "outputs": [],
   "source": [
    "def admittance(circuit):\n",
    "    if type(circuit) == lcapy.oneport.Par:\n",
    "        return Add(admittance(circuit.args[0]),admittance(circuit.args[1]))\n",
    "    elif type(circuit) == lcapy.oneport.Ser:\n",
    "        return 1/Add(1/admittance(circuit.args[0]),1/admittance(circuit.args[1]))\n",
    "    elif type(circuit) == lcapy.oneport.L:\n",
    "        return -sp.I*Mul(1/sp.Symbol('\\omega'),1/sp.Symbol(circuit.args[0],real=True))\n",
    "    elif type(circuit) == lcapy.oneport.C:\n",
    "        return sp.I*Mul(sp.Symbol('\\omega'),sp.Symbol(circuit.args[0],real=True))\n",
    "    elif type(circuit) == lcapy.oneport.R:\n",
    "        return 1/sp.Symbol(circuit.args[0],real=True)"
   ]
  },
  {
   "cell_type": "code",
   "execution_count": 95,
   "metadata": {},
   "outputs": [
    {
     "data": {
      "image/png": "[encoded data removed]",
      "text/latex": [
       "$$i C \\omega + i C_{1} \\omega + \\frac{1}{\\frac{1}{i Cr \\omega + \\frac{1}{R_{50} - \\frac{i}{C_{f} \\omega}} - \\frac{i}{Lr \\omega}} - \\frac{i}{Cc \\omega}} - \\frac{i}{L_{J} \\omega} - \\frac{i}{L_{1} \\omega}$$"
      ],
      "text/plain": [
       "                                                     1                        \n",
       "ⅈ⋅C⋅\\omega + ⅈ⋅C₁⋅\\omega + ───────────────────────────────────────────────────\n",
       "                                               1                            ⅈ \n",
       "                           ────────────────────────────────────────── - ──────\n",
       "                                                1               ⅈ       Cc⋅\\om\n",
       "                           ⅈ⋅Cr⋅\\omega + ──────────────── - ─────────         \n",
       "                                                   ⅈ        Lr⋅\\omega         \n",
       "                                         R₅₀ - ──────────                     \n",
       "                                               C_f⋅\\omega                     \n",
       "\n",
       "          ⅈ            ⅈ    \n",
       "─── - ────────── - ─────────\n",
       "      L_J⋅\\omega   L₁⋅\\omega\n",
       "───                         \n",
       "ega                         \n",
       "                            \n",
       "                            \n",
       "                            \n",
       "                            "
      ]
     },
     "execution_count": 95,
     "metadata": {},
     "output_type": "execute_result"
    }
   ],
   "source": [
    "Y = admittance(circuit)\n",
    "Y"
   ]
  },
  {
   "cell_type": "code",
   "execution_count": 108,
   "metadata": {},
   "outputs": [
    {
     "data": {
      "image/png": "[encoded data removed]",
      "text/latex": [
       "$$i C L_{1} L_{J} \\omega^{2} \\left(Cc Lr \\omega^{2} \\left(C_{f} R_{50} \\omega - i\\right) - i \\left(C_{f} Lr \\omega^{2} + i Cr Lr \\omega^{2} \\left(C_{f} R_{50} \\omega - i\\right) - i \\left(C_{f} R_{50} \\omega - i\\right)\\right)\\right) + i C_{1} L_{1} L_{J} \\omega^{2} \\left(Cc Lr \\omega^{2} \\left(C_{f} R_{50} \\omega - i\\right) - i \\left(C_{f} Lr \\omega^{2} + i Cr Lr \\omega^{2} \\left(C_{f} R_{50} \\omega - i\\right) - i \\left(C_{f} R_{50} \\omega - i\\right)\\right)\\right) + Cc L_{1} L_{J} \\omega^{2} \\left(C_{f} Lr \\omega^{2} + i Cr Lr \\omega^{2} \\left(C_{f} R_{50} \\omega - i\\right) - i \\left(C_{f} R_{50} \\omega - i\\right)\\right) - i L_{1} \\left(Cc Lr \\omega^{2} \\left(C_{f} R_{50} \\omega - i\\right) - i \\left(C_{f} Lr \\omega^{2} + i Cr Lr \\omega^{2} \\left(C_{f} R_{50} \\omega - i\\right) - i \\left(C_{f} R_{50} \\omega - i\\right)\\right)\\right) - i L_{J} \\left(Cc Lr \\omega^{2} \\left(C_{f} R_{50} \\omega - i\\right) - i \\left(C_{f} Lr \\omega^{2} + i Cr Lr \\omega^{2} \\left(C_{f} R_{50} \\omega - i\\right) - i \\left(C_{f} R_{50} \\omega - i\\right)\\right)\\right)$$"
      ],
      "text/plain": [
       "                 2 ⎛            2                          ⎛             2    \n",
       "ⅈ⋅C⋅L₁⋅L_J⋅\\omega ⋅⎝Cc⋅Lr⋅\\omega ⋅(C_f⋅R₅₀⋅\\omega - ⅈ) - ⅈ⋅⎝C_f⋅Lr⋅\\omega  + ⅈ\n",
       "\n",
       "             2                                              ⎞⎞                \n",
       "⋅Cr⋅Lr⋅\\omega ⋅(C_f⋅R₅₀⋅\\omega - ⅈ) - ⅈ⋅(C_f⋅R₅₀⋅\\omega - ⅈ)⎠⎠ + ⅈ⋅C₁⋅L₁⋅L_J⋅\\\n",
       "\n",
       "     2 ⎛            2                          ⎛             2                \n",
       "omega ⋅⎝Cc⋅Lr⋅\\omega ⋅(C_f⋅R₅₀⋅\\omega - ⅈ) - ⅈ⋅⎝C_f⋅Lr⋅\\omega  + ⅈ⋅Cr⋅Lr⋅\\omeg\n",
       "\n",
       " 2                                              ⎞⎞                   2 ⎛      \n",
       "a ⋅(C_f⋅R₅₀⋅\\omega - ⅈ) - ⅈ⋅(C_f⋅R₅₀⋅\\omega - ⅈ)⎠⎠ + Cc⋅L₁⋅L_J⋅\\omega ⋅⎝C_f⋅Lr\n",
       "\n",
       "       2                 2                                              ⎞     \n",
       "⋅\\omega  + ⅈ⋅Cr⋅Lr⋅\\omega ⋅(C_f⋅R₅₀⋅\\omega - ⅈ) - ⅈ⋅(C_f⋅R₅₀⋅\\omega - ⅈ)⎠ - ⅈ⋅\n",
       "\n",
       "   ⎛            2                          ⎛             2                 2  \n",
       "L₁⋅⎝Cc⋅Lr⋅\\omega ⋅(C_f⋅R₅₀⋅\\omega - ⅈ) - ⅈ⋅⎝C_f⋅Lr⋅\\omega  + ⅈ⋅Cr⋅Lr⋅\\omega ⋅(\n",
       "\n",
       "                                            ⎞⎞         ⎛            2         \n",
       "C_f⋅R₅₀⋅\\omega - ⅈ) - ⅈ⋅(C_f⋅R₅₀⋅\\omega - ⅈ)⎠⎠ - ⅈ⋅L_J⋅⎝Cc⋅Lr⋅\\omega ⋅(C_f⋅R₅₀\n",
       "\n",
       "                 ⎛             2                 2                            \n",
       "⋅\\omega - ⅈ) - ⅈ⋅⎝C_f⋅Lr⋅\\omega  + ⅈ⋅Cr⋅Lr⋅\\omega ⋅(C_f⋅R₅₀⋅\\omega - ⅈ) - ⅈ⋅(C\n",
       "\n",
       "                  ⎞⎞\n",
       "_f⋅R₅₀⋅\\omega - ⅈ)⎠⎠"
      ]
     },
     "execution_count": 108,
     "metadata": {},
     "output_type": "execute_result"
    }
   ],
   "source": [
    "Y_numer = sp.numer(sp.together(Y))\n",
    "Y_numer"
   ]
  },
  {
   "cell_type": "code",
   "execution_count": 107,
   "metadata": {},
   "outputs": [
    {
     "data": {
      "image/png": "[encoded data removed]",
      "text/latex": [
       "$$\\left [ \\right ]$$"
      ],
      "text/plain": [
       "[]"
      ]
     },
     "execution_count": 107,
     "metadata": {},
     "output_type": "execute_result"
    }
   ],
   "source": [
    "sp.solve(Y_numer,sp.Symbol('\\omega'))"
   ]
  },
  {
   "cell_type": "code",
   "execution_count": 96,
   "metadata": {},
   "outputs": [
    {
     "data": {
      "image/png": "[encoded data removed]",
      "text/latex": [
       "$$\\left [ \\right ]$$"
      ],
      "text/plain": [
       "[]"
      ]
     },
     "execution_count": 96,
     "metadata": {},
     "output_type": "execute_result"
    }
   ],
   "source": [
    "sp.solve(Y,sp.Symbol('\\omega'))"
   ]
  },
  {
   "cell_type": "code",
   "execution_count": 97,
   "metadata": {},
   "outputs": [
    {
     "data": {
      "image/png": "[encoded data removed]",
      "text/latex": [
       "$$i C + i C_{1} + \\frac{- \\frac{- i Cr - \\frac{i}{Lr \\omega^{2}} + \\frac{i}{C_{f} \\omega^{2} \\left(R_{50} - \\frac{i}{C_{f} \\omega}\\right)^{2}}}{\\left(i Cr \\omega + \\frac{1}{R_{50} - \\frac{i}{C_{f} \\omega}} - \\frac{i}{Lr \\omega}\\right)^{2}} - \\frac{i}{Cc \\omega^{2}}}{\\left(\\frac{1}{i Cr \\omega + \\frac{1}{R_{50} - \\frac{i}{C_{f} \\omega}} - \\frac{i}{Lr \\omega}} - \\frac{i}{Cc \\omega}\\right)^{2}} + \\frac{i}{L_{J} \\omega^{2}} + \\frac{i}{L_{1} \\omega^{2}}$$"
      ],
      "text/plain": [
       "                           ⅈ                       ⅈ                          \n",
       "               -ⅈ⋅Cr - ────────── + ───────────────────────────────           \n",
       "                                2                                 2           \n",
       "                       Lr⋅\\omega              2 ⎛          ⅈ     ⎞            \n",
       "                                    C_f⋅\\omega ⋅⎜R₅₀ - ──────────⎟            \n",
       "                                                ⎝      C_f⋅\\omega⎠        ⅈ   \n",
       "             - ──────────────────────────────────────────────────── - ────────\n",
       "                                                              2               \n",
       "                  ⎛                     1               ⅈ    ⎞        Cc⋅\\omeg\n",
       "                  ⎜ⅈ⋅Cr⋅\\omega + ──────────────── - ─────────⎟                \n",
       "                  ⎜                        ⅈ        Lr⋅\\omega⎟                \n",
       "                  ⎜              R₅₀ - ──────────            ⎟                \n",
       "                  ⎝                    C_f⋅\\omega            ⎠                \n",
       "ⅈ⋅C + ⅈ⋅C₁ + ─────────────────────────────────────────────────────────────────\n",
       "                                                                          2   \n",
       "                  ⎛                    1                            ⅈ    ⎞    \n",
       "                  ⎜────────────────────────────────────────── - ─────────⎟    \n",
       "                  ⎜                     1               ⅈ       Cc⋅\\omega⎟    \n",
       "                  ⎜ⅈ⋅Cr⋅\\omega + ──────────────── - ─────────            ⎟    \n",
       "                  ⎜                        ⅈ        Lr⋅\\omega            ⎟    \n",
       "                  ⎜              R₅₀ - ──────────                        ⎟    \n",
       "                  ⎝                    C_f⋅\\omega                        ⎠    \n",
       "\n",
       "                             \n",
       "                             \n",
       "                             \n",
       "                             \n",
       "                             \n",
       "                             \n",
       "──                           \n",
       " 2                           \n",
       "a                            \n",
       "                             \n",
       "                             \n",
       "                             \n",
       "          ⅈ            ⅈ     \n",
       "── + ─────────── + ──────────\n",
       "               2            2\n",
       "     L_J⋅\\omega    L₁⋅\\omega \n",
       "                             \n",
       "                             \n",
       "                             \n",
       "                             \n",
       "                             \n",
       "                             "
      ]
     },
     "execution_count": 97,
     "metadata": {},
     "output_type": "execute_result"
    }
   ],
   "source": [
    "sp.diff(Y,sp.Symbol('\\omega'))"
   ]
  },
  {
   "cell_type": "code",
   "execution_count": 112,
   "metadata": {
    "collapsed": true
   },
   "outputs": [],
   "source": [
    "Y_poly = sp.collect(sp.expand(Y_numer),sp.Symbol('\\omega'))"
   ]
  },
  {
   "cell_type": "code",
   "execution_count": 115,
   "metadata": {
    "collapsed": true
   },
   "outputs": [],
   "source": [
    "Y_order = sp.polys.polytools.degree(Y_poly,gen = sp.Symbol('\\omega'))"
   ]
  }
 ],
 "metadata": {
  "kernelspec": {
   "display_name": "Python [default]",
   "language": "python",
   "name": "python2"
  },
  "language_info": {
   "codemirror_mode": {
    "name": "ipython",
    "version": 2
   },
   "file_extension": ".py",
   "mimetype": "text/x-python",
   "name": "python",
   "nbconvert_exporter": "python",
   "pygments_lexer": "ipython2",
   "version": "2.7.13"
  }
 },
 "nbformat": 4,
 "nbformat_minor": 2
}
